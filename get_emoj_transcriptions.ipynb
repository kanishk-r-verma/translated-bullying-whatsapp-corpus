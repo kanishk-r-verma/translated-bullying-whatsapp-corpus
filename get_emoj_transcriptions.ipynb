{
 "cells": [
  {
   "cell_type": "code",
   "execution_count": 12,
   "id": "bfe2c42a",
   "metadata": {},
   "outputs": [],
   "source": [
    "import time\n",
    "from selenium import webdriver\n",
    "from selenium.webdriver.common.by import By\n",
    "from tqdm import tqdm\n",
    "import pandas as pd\n"
   ]
  },
  {
   "cell_type": "code",
   "execution_count": 2,
   "id": "588297d3",
   "metadata": {},
   "outputs": [],
   "source": [
    "import os \n"
   ]
  },
  {
   "cell_type": "code",
   "execution_count": 4,
   "id": "d6e2e552",
   "metadata": {},
   "outputs": [],
   "source": [
    "url = 'https://www.quackit.com/character_sets/emoji/emoji_v3.0/unicode_emoji_v3.0_characters_all.cfm'\n"
   ]
  },
  {
   "cell_type": "code",
   "execution_count": null,
   "id": "3c3bade2",
   "metadata": {},
   "outputs": [],
   "source": [
    "'''\n",
    "\n",
    "install chromedriver \n",
    "#for mac: \n",
    "    https://stackoverflow.com/questions/43528944/python-browser-with-mac-error-chromedriver-executable-needs-to-be-in-path\n",
    "    installed path = /usr/local/bin/chromedriver\n",
    "\n",
    "'''"
   ]
  },
  {
   "cell_type": "code",
   "execution_count": 10,
   "id": "074b35cc",
   "metadata": {},
   "outputs": [
    {
     "name": "stderr",
     "output_type": "stream",
     "text": [
      "<ipython-input-10-c58343d0ab81>:1: DeprecationWarning: executable_path has been deprecated, please pass in a Service object\n",
      "  driver = webdriver.Chrome(\"/usr/local/bin/chromedriver\")\n"
     ]
    },
    {
     "name": "stdout",
     "output_type": "stream",
     "text": [
      "URL ACCESS, took:  8.71  seconds\n",
      "TABLE ACCESS, took:  0.23  seconds\n",
      "Accessing each rows...\n"
     ]
    },
    {
     "name": "stderr",
     "output_type": "stream",
     "text": [
      "  0%|          | 3/1792 [00:00<01:01, 29.10it/s]"
     ]
    },
    {
     "name": "stdout",
     "output_type": "stream",
     "text": [
      "Processing Row,  2\n",
      "Processing Row,  3\n",
      "Processing Row,  4\n",
      "Processing Row,  5\n"
     ]
    },
    {
     "name": "stderr",
     "output_type": "stream",
     "text": [
      "\r",
      "  0%|          | 6/1792 [00:00<01:05, 27.10it/s]"
     ]
    },
    {
     "name": "stdout",
     "output_type": "stream",
     "text": [
      "Processing Row,  6\n"
     ]
    },
    {
     "name": "stderr",
     "output_type": "stream",
     "text": [
      "\r",
      "  1%|          | 9/1792 [00:00<01:08, 25.89it/s]"
     ]
    },
    {
     "name": "stdout",
     "output_type": "stream",
     "text": [
      "Processing Row,  7\n",
      "Processing Row,  8\n",
      "Processing Row,  9\n",
      "Processing Row,  10\n",
      "Processing Row,  11\n",
      "Processing Row,  12\n"
     ]
    },
    {
     "name": "stderr",
     "output_type": "stream",
     "text": [
      "  1%|          | 15/1792 [00:00<01:10, 25.12it/s]"
     ]
    },
    {
     "name": "stdout",
     "output_type": "stream",
     "text": [
      "Processing Row,  13\n",
      "Processing Row,  14\n",
      "Processing Row,  15\n",
      "Processing Row,  16\n",
      "Processing Row,  17\n",
      "Processing Row,  18\n"
     ]
    },
    {
     "name": "stderr",
     "output_type": "stream",
     "text": [
      "  1%|          | 21/1792 [00:00<01:08, 26.04it/s]"
     ]
    },
    {
     "name": "stdout",
     "output_type": "stream",
     "text": [
      "Processing Row,  19\n",
      "Processing Row,  20\n",
      "Processing Row,  21\n",
      "Processing Row,  22\n",
      "Processing Row,  23\n",
      "Processing Row,  24\n"
     ]
    },
    {
     "name": "stderr",
     "output_type": "stream",
     "text": [
      "  2%|▏         | 27/1792 [00:01<01:09, 25.47it/s]"
     ]
    },
    {
     "name": "stdout",
     "output_type": "stream",
     "text": [
      "Processing Row,  25\n",
      "Processing Row,  26\n",
      "Processing Row,  27\n",
      "Processing Row,  28\n",
      "Processing Row,  29\n",
      "Processing Row,  30\n"
     ]
    },
    {
     "name": "stderr",
     "output_type": "stream",
     "text": [
      "  2%|▏         | 33/1792 [00:01<01:09, 25.19it/s]"
     ]
    },
    {
     "name": "stdout",
     "output_type": "stream",
     "text": [
      "Processing Row,  31\n",
      "Processing Row,  32\n",
      "Processing Row,  33\n",
      "Processing Row,  34\n",
      "Processing Row,  35\n",
      "Processing Row,  36\n"
     ]
    },
    {
     "name": "stderr",
     "output_type": "stream",
     "text": [
      "\r",
      "  2%|▏         | 36/1792 [00:01<01:08, 25.68it/s]"
     ]
    },
    {
     "name": "stdout",
     "output_type": "stream",
     "text": [
      "Processing Row,  37\n",
      "Processing Row,  38\n",
      "Processing Row,  39\n"
     ]
    },
    {
     "name": "stderr",
     "output_type": "stream",
     "text": [
      "\r",
      "  2%|▏         | 39/1792 [00:01<01:08, 25.45it/s]"
     ]
    },
    {
     "name": "stdout",
     "output_type": "stream",
     "text": [
      "Processing Row,  40\n",
      "Processing Row,  41\n",
      "Processing Row,  42\n"
     ]
    },
    {
     "name": "stderr",
     "output_type": "stream",
     "text": [
      "\r",
      "  2%|▏         | 42/1792 [00:01<01:07, 25.90it/s]"
     ]
    },
    {
     "name": "stdout",
     "output_type": "stream",
     "text": [
      "Processing Row,  43\n",
      "Processing Row,  44\n",
      "Processing Row,  45\n"
     ]
    },
    {
     "name": "stderr",
     "output_type": "stream",
     "text": [
      "\r",
      "  3%|▎         | 45/1792 [00:01<01:06, 26.11it/s]"
     ]
    },
    {
     "name": "stdout",
     "output_type": "stream",
     "text": [
      "Processing Row,  46\n",
      "Processing Row,  47\n",
      "Processing Row,  48\n"
     ]
    },
    {
     "name": "stderr",
     "output_type": "stream",
     "text": [
      "\r",
      "  3%|▎         | 48/1792 [00:01<01:06, 26.29it/s]"
     ]
    },
    {
     "name": "stdout",
     "output_type": "stream",
     "text": [
      "Processing Row,  49\n",
      "Processing Row,  50\n",
      "Processing Row,  51\n"
     ]
    },
    {
     "name": "stderr",
     "output_type": "stream",
     "text": [
      "\r",
      "  3%|▎         | 51/1792 [00:01<01:09, 25.13it/s]"
     ]
    },
    {
     "name": "stdout",
     "output_type": "stream",
     "text": [
      "Processing Row,  52\n",
      "Processing Row,  53\n"
     ]
    },
    {
     "name": "stderr",
     "output_type": "stream",
     "text": [
      "\r",
      "  3%|▎         | 54/1792 [00:02<01:07, 25.78it/s]"
     ]
    },
    {
     "name": "stdout",
     "output_type": "stream",
     "text": [
      "Processing Row,  54\n",
      "Processing Row,  55\n",
      "Processing Row,  56\n",
      "Processing Row,  57\n"
     ]
    },
    {
     "name": "stderr",
     "output_type": "stream",
     "text": [
      "\r",
      "  3%|▎         | 57/1792 [00:02<01:06, 26.29it/s]"
     ]
    },
    {
     "name": "stdout",
     "output_type": "stream",
     "text": [
      "Processing Row,  58\n",
      "Processing Row,  59\n"
     ]
    },
    {
     "name": "stderr",
     "output_type": "stream",
     "text": [
      "\r",
      "  3%|▎         | 60/1792 [00:02<01:05, 26.60it/s]"
     ]
    },
    {
     "name": "stdout",
     "output_type": "stream",
     "text": [
      "Processing Row,  60\n",
      "Processing Row,  61\n",
      "Processing Row,  62\n",
      "Processing Row,  63\n"
     ]
    },
    {
     "name": "stderr",
     "output_type": "stream",
     "text": [
      "\r",
      "  4%|▎         | 63/1792 [00:02<01:05, 26.36it/s]"
     ]
    },
    {
     "name": "stdout",
     "output_type": "stream",
     "text": [
      "Processing Row,  64\n",
      "Processing Row,  65\n"
     ]
    },
    {
     "name": "stderr",
     "output_type": "stream",
     "text": [
      "\r",
      "  4%|▎         | 66/1792 [00:02<01:05, 26.36it/s]"
     ]
    },
    {
     "name": "stdout",
     "output_type": "stream",
     "text": [
      "Processing Row,  66\n",
      "Processing Row,  67\n",
      "Processing Row,  68\n",
      "Processing Row,  69\n"
     ]
    },
    {
     "name": "stderr",
     "output_type": "stream",
     "text": [
      "\r",
      "  4%|▍         | 69/1792 [00:02<01:05, 26.37it/s]"
     ]
    },
    {
     "name": "stdout",
     "output_type": "stream",
     "text": [
      "Processing Row,  70\n",
      "Processing Row,  71\n"
     ]
    },
    {
     "name": "stderr",
     "output_type": "stream",
     "text": [
      "\r",
      "  4%|▍         | 72/1792 [00:02<01:06, 25.80it/s]"
     ]
    },
    {
     "name": "stdout",
     "output_type": "stream",
     "text": [
      "Processing Row,  72\n",
      "Processing Row,  73\n",
      "Processing Row,  74\n",
      "Processing Row,  75\n"
     ]
    },
    {
     "name": "stderr",
     "output_type": "stream",
     "text": [
      "\r",
      "  4%|▍         | 75/1792 [00:02<01:08, 25.16it/s]"
     ]
    },
    {
     "name": "stdout",
     "output_type": "stream",
     "text": [
      "Processing Row,  76\n"
     ]
    },
    {
     "name": "stderr",
     "output_type": "stream",
     "text": [
      "\r",
      "  4%|▍         | 78/1792 [00:03<01:09, 24.72it/s]"
     ]
    },
    {
     "name": "stdout",
     "output_type": "stream",
     "text": [
      "Processing Row,  77\n",
      "Processing Row,  78\n",
      "Processing Row,  79\n",
      "Processing Row,  80\n",
      "Processing Row,  81\n"
     ]
    },
    {
     "name": "stderr",
     "output_type": "stream",
     "text": [
      "\r",
      "  5%|▍         | 81/1792 [00:03<01:07, 25.35it/s]"
     ]
    },
    {
     "name": "stdout",
     "output_type": "stream",
     "text": [
      "Processing Row,  82\n"
     ]
    },
    {
     "name": "stderr",
     "output_type": "stream",
     "text": [
      "\r",
      "  5%|▍         | 84/1792 [00:03<01:06, 25.71it/s]"
     ]
    },
    {
     "name": "stdout",
     "output_type": "stream",
     "text": [
      "Processing Row,  83\n",
      "Processing Row,  84\n",
      "Processing Row,  85\n",
      "Processing Row,  86\n",
      "Processing Row,  87\n"
     ]
    },
    {
     "name": "stderr",
     "output_type": "stream",
     "text": [
      "\r",
      "  5%|▍         | 87/1792 [00:03<01:05, 26.05it/s]"
     ]
    },
    {
     "name": "stdout",
     "output_type": "stream",
     "text": [
      "Processing Row,  88\n"
     ]
    },
    {
     "name": "stderr",
     "output_type": "stream",
     "text": [
      "\r",
      "  5%|▌         | 90/1792 [00:03<01:07, 25.28it/s]"
     ]
    },
    {
     "name": "stdout",
     "output_type": "stream",
     "text": [
      "Processing Row,  89\n",
      "Processing Row,  90\n",
      "Processing Row,  91\n",
      "Processing Row,  92\n",
      "Processing Row,  93\n"
     ]
    },
    {
     "name": "stderr",
     "output_type": "stream",
     "text": [
      "\r",
      "  5%|▌         | 93/1792 [00:03<01:05, 26.11it/s]"
     ]
    },
    {
     "name": "stdout",
     "output_type": "stream",
     "text": [
      "Processing Row,  94\n"
     ]
    },
    {
     "name": "stderr",
     "output_type": "stream",
     "text": [
      "\r",
      "  5%|▌         | 96/1792 [00:03<01:03, 26.73it/s]"
     ]
    },
    {
     "name": "stdout",
     "output_type": "stream",
     "text": [
      "Processing Row,  95\n",
      "Processing Row,  96\n",
      "Processing Row,  97\n",
      "Processing Row,  98\n",
      "Processing Row,  99\n"
     ]
    },
    {
     "name": "stderr",
     "output_type": "stream",
     "text": [
      "\r",
      "  6%|▌         | 99/1792 [00:03<01:03, 26.85it/s]"
     ]
    },
    {
     "name": "stdout",
     "output_type": "stream",
     "text": [
      "Processing Row,  100\n"
     ]
    },
    {
     "name": "stderr",
     "output_type": "stream",
     "text": [
      "\r",
      "  6%|▌         | 102/1792 [00:03<01:02, 26.99it/s]"
     ]
    },
    {
     "name": "stdout",
     "output_type": "stream",
     "text": [
      "Processing Row,  101\n",
      "Processing Row,  102\n",
      "Processing Row,  103\n",
      "Processing Row,  104\n",
      "Processing Row,  105\n"
     ]
    },
    {
     "name": "stderr",
     "output_type": "stream",
     "text": [
      "\r",
      "  6%|▌         | 105/1792 [00:04<01:01, 27.35it/s]"
     ]
    },
    {
     "name": "stdout",
     "output_type": "stream",
     "text": [
      "Processing Row,  106\n"
     ]
    },
    {
     "name": "stderr",
     "output_type": "stream",
     "text": [
      "\r",
      "  6%|▌         | 108/1792 [00:04<01:02, 26.92it/s]"
     ]
    },
    {
     "name": "stdout",
     "output_type": "stream",
     "text": [
      "Processing Row,  107\n",
      "Processing Row,  108\n",
      "Processing Row,  109\n",
      "Processing Row,  110\n",
      "Processing Row,  111\n"
     ]
    },
    {
     "name": "stderr",
     "output_type": "stream",
     "text": [
      "\r",
      "  6%|▌         | 111/1792 [00:04<01:01, 27.19it/s]"
     ]
    },
    {
     "name": "stdout",
     "output_type": "stream",
     "text": [
      "Processing Row,  112\n"
     ]
    },
    {
     "name": "stderr",
     "output_type": "stream",
     "text": [
      "\r",
      "  6%|▋         | 114/1792 [00:04<01:02, 26.79it/s]"
     ]
    },
    {
     "name": "stdout",
     "output_type": "stream",
     "text": [
      "Processing Row,  113\n",
      "Processing Row,  114\n",
      "Processing Row,  115\n",
      "Processing Row,  116\n",
      "Processing Row,  117\n"
     ]
    },
    {
     "name": "stderr",
     "output_type": "stream",
     "text": [
      "\r",
      "  7%|▋         | 117/1792 [00:04<01:02, 26.65it/s]"
     ]
    },
    {
     "name": "stdout",
     "output_type": "stream",
     "text": [
      "Processing Row,  118\n"
     ]
    },
    {
     "name": "stderr",
     "output_type": "stream",
     "text": [
      "\r",
      "  7%|▋         | 120/1792 [00:04<01:02, 26.85it/s]"
     ]
    },
    {
     "name": "stdout",
     "output_type": "stream",
     "text": [
      "Processing Row,  119\n",
      "Processing Row,  120\n",
      "Processing Row,  121\n",
      "Processing Row,  122\n",
      "Processing Row,  123\n"
     ]
    },
    {
     "name": "stderr",
     "output_type": "stream",
     "text": [
      "\r",
      "  7%|▋         | 123/1792 [00:04<01:01, 26.94it/s]"
     ]
    },
    {
     "name": "stdout",
     "output_type": "stream",
     "text": [
      "Processing Row,  124\n"
     ]
    },
    {
     "name": "stderr",
     "output_type": "stream",
     "text": [
      "\r",
      "  7%|▋         | 126/1792 [00:04<01:01, 26.95it/s]"
     ]
    },
    {
     "name": "stdout",
     "output_type": "stream",
     "text": [
      "Processing Row,  125\n",
      "Processing Row,  126\n",
      "Processing Row,  127\n",
      "Processing Row,  128\n",
      "Processing Row,  129\n"
     ]
    },
    {
     "name": "stderr",
     "output_type": "stream",
     "text": [
      "\r",
      "  7%|▋         | 129/1792 [00:04<01:01, 27.10it/s]"
     ]
    },
    {
     "name": "stdout",
     "output_type": "stream",
     "text": [
      "Processing Row,  130\n"
     ]
    },
    {
     "name": "stderr",
     "output_type": "stream",
     "text": [
      "\r",
      "  7%|▋         | 132/1792 [00:05<01:01, 26.93it/s]"
     ]
    },
    {
     "name": "stdout",
     "output_type": "stream",
     "text": [
      "Processing Row,  131\n",
      "Processing Row,  132\n",
      "Processing Row,  133\n",
      "Processing Row,  134\n",
      "Processing Row,  135\n"
     ]
    },
    {
     "name": "stderr",
     "output_type": "stream",
     "text": [
      "\r",
      "  8%|▊         | 135/1792 [00:05<01:00, 27.22it/s]"
     ]
    },
    {
     "name": "stdout",
     "output_type": "stream",
     "text": [
      "Processing Row,  136\n"
     ]
    },
    {
     "name": "stderr",
     "output_type": "stream",
     "text": [
      "\r",
      "  8%|▊         | 138/1792 [00:05<01:00, 27.37it/s]"
     ]
    },
    {
     "name": "stdout",
     "output_type": "stream",
     "text": [
      "Processing Row,  137\n",
      "Processing Row,  138\n",
      "Processing Row,  139\n",
      "Processing Row,  140\n",
      "Processing Row,  141\n"
     ]
    },
    {
     "name": "stderr",
     "output_type": "stream",
     "text": [
      "\r",
      "  8%|▊         | 141/1792 [00:05<01:00, 27.25it/s]"
     ]
    },
    {
     "name": "stdout",
     "output_type": "stream",
     "text": [
      "Processing Row,  142\n"
     ]
    },
    {
     "name": "stderr",
     "output_type": "stream",
     "text": [
      "\r",
      "  8%|▊         | 144/1792 [00:05<01:00, 27.37it/s]"
     ]
    },
    {
     "name": "stdout",
     "output_type": "stream",
     "text": [
      "Processing Row,  143\n",
      "Processing Row,  144\n",
      "Processing Row,  145\n",
      "Processing Row,  146\n",
      "Processing Row,  147\n"
     ]
    },
    {
     "name": "stderr",
     "output_type": "stream",
     "text": [
      "\r",
      "  8%|▊         | 147/1792 [00:05<01:00, 27.29it/s]"
     ]
    },
    {
     "name": "stdout",
     "output_type": "stream",
     "text": [
      "Processing Row,  148\n"
     ]
    },
    {
     "name": "stderr",
     "output_type": "stream",
     "text": [
      "\r",
      "  8%|▊         | 150/1792 [00:05<01:00, 27.10it/s]"
     ]
    },
    {
     "name": "stdout",
     "output_type": "stream",
     "text": [
      "Processing Row,  149\n",
      "Processing Row,  150\n",
      "Processing Row,  151\n",
      "Processing Row,  152\n",
      "Processing Row,  153\n"
     ]
    },
    {
     "name": "stderr",
     "output_type": "stream",
     "text": [
      "\r",
      "  9%|▊         | 153/1792 [00:05<01:00, 27.08it/s]"
     ]
    },
    {
     "name": "stdout",
     "output_type": "stream",
     "text": [
      "Processing Row,  154\n"
     ]
    },
    {
     "name": "stderr",
     "output_type": "stream",
     "text": [
      "\r",
      "  9%|▊         | 156/1792 [00:05<01:00, 26.97it/s]"
     ]
    },
    {
     "name": "stdout",
     "output_type": "stream",
     "text": [
      "Processing Row,  155\n",
      "Processing Row,  156\n",
      "Processing Row,  157\n",
      "Processing Row,  158\n",
      "Processing Row,  159\n"
     ]
    },
    {
     "name": "stderr",
     "output_type": "stream",
     "text": [
      "\r",
      "  9%|▉         | 159/1792 [00:06<01:00, 26.91it/s]"
     ]
    },
    {
     "name": "stdout",
     "output_type": "stream",
     "text": [
      "Processing Row,  160\n"
     ]
    },
    {
     "name": "stderr",
     "output_type": "stream",
     "text": [
      "\r",
      "  9%|▉         | 162/1792 [00:06<01:00, 26.83it/s]"
     ]
    },
    {
     "name": "stdout",
     "output_type": "stream",
     "text": [
      "Processing Row,  161\n",
      "Processing Row,  162\n",
      "Processing Row,  163\n",
      "Processing Row,  164\n",
      "Processing Row,  165\n"
     ]
    },
    {
     "name": "stderr",
     "output_type": "stream",
     "text": [
      "\r",
      "  9%|▉         | 165/1792 [00:06<01:00, 26.72it/s]"
     ]
    },
    {
     "name": "stdout",
     "output_type": "stream",
     "text": [
      "Processing Row,  166\n"
     ]
    },
    {
     "name": "stderr",
     "output_type": "stream",
     "text": [
      "\r",
      "  9%|▉         | 168/1792 [00:06<01:00, 26.73it/s]"
     ]
    },
    {
     "name": "stdout",
     "output_type": "stream",
     "text": [
      "Processing Row,  167\n",
      "Processing Row,  168\n",
      "Processing Row,  169\n",
      "Processing Row,  170\n",
      "Processing Row,  171\n"
     ]
    },
    {
     "name": "stderr",
     "output_type": "stream",
     "text": [
      "\r",
      " 10%|▉         | 171/1792 [00:06<01:00, 26.71it/s]"
     ]
    },
    {
     "name": "stdout",
     "output_type": "stream",
     "text": [
      "Processing Row,  172\n"
     ]
    },
    {
     "name": "stderr",
     "output_type": "stream",
     "text": [
      "\r",
      " 10%|▉         | 174/1792 [00:06<01:00, 26.77it/s]"
     ]
    },
    {
     "name": "stdout",
     "output_type": "stream",
     "text": [
      "Processing Row,  173\n",
      "Processing Row,  174\n",
      "Processing Row,  175\n",
      "Processing Row,  176\n",
      "Processing Row,  177\n"
     ]
    },
    {
     "name": "stderr",
     "output_type": "stream",
     "text": [
      "\r",
      " 10%|▉         | 177/1792 [00:06<01:00, 26.85it/s]"
     ]
    },
    {
     "name": "stdout",
     "output_type": "stream",
     "text": [
      "Processing Row,  178\n"
     ]
    },
    {
     "name": "stderr",
     "output_type": "stream",
     "text": [
      "\r",
      " 10%|█         | 180/1792 [00:06<01:00, 26.79it/s]"
     ]
    },
    {
     "name": "stdout",
     "output_type": "stream",
     "text": [
      "Processing Row,  179\n",
      "Processing Row,  180\n",
      "Processing Row,  181\n",
      "Processing Row,  182\n",
      "Processing Row,  183\n"
     ]
    },
    {
     "name": "stderr",
     "output_type": "stream",
     "text": [
      " 10%|█         | 186/1792 [00:07<01:05, 24.70it/s]"
     ]
    },
    {
     "name": "stdout",
     "output_type": "stream",
     "text": [
      "Processing Row,  184\n",
      "Processing Row,  185\n",
      "Processing Row,  186\n",
      "Processing Row,  187\n",
      "Processing Row,  188\n",
      "Processing Row,  189\n"
     ]
    },
    {
     "name": "stderr",
     "output_type": "stream",
     "text": [
      " 11%|█         | 192/1792 [00:07<01:01, 26.15it/s]"
     ]
    },
    {
     "name": "stdout",
     "output_type": "stream",
     "text": [
      "Processing Row,  190\n",
      "Processing Row,  191\n",
      "Processing Row,  192\n",
      "Processing Row,  193\n",
      "Processing Row,  194\n",
      "Processing Row,  195\n"
     ]
    },
    {
     "name": "stderr",
     "output_type": "stream",
     "text": [
      " 11%|█         | 198/1792 [00:07<00:59, 26.92it/s]"
     ]
    },
    {
     "name": "stdout",
     "output_type": "stream",
     "text": [
      "Processing Row,  196\n",
      "Processing Row,  197\n",
      "Processing Row,  198\n",
      "Processing Row,  199\n",
      "Processing Row,  200\n",
      "Processing Row,  201\n"
     ]
    },
    {
     "name": "stderr",
     "output_type": "stream",
     "text": [
      " 11%|█▏        | 204/1792 [00:07<01:01, 25.95it/s]"
     ]
    },
    {
     "name": "stdout",
     "output_type": "stream",
     "text": [
      "Processing Row,  202\n",
      "Processing Row,  203\n",
      "Processing Row,  204\n",
      "Processing Row,  205\n",
      "Processing Row,  206\n",
      "Processing Row,  207\n"
     ]
    },
    {
     "name": "stderr",
     "output_type": "stream",
     "text": [
      " 12%|█▏        | 210/1792 [00:07<00:59, 26.64it/s]"
     ]
    },
    {
     "name": "stdout",
     "output_type": "stream",
     "text": [
      "Processing Row,  208\n",
      "Processing Row,  209\n",
      "Processing Row,  210\n",
      "Processing Row,  211\n",
      "Processing Row,  212\n",
      "Processing Row,  213\n"
     ]
    },
    {
     "name": "stderr",
     "output_type": "stream",
     "text": [
      " 12%|█▏        | 216/1792 [00:08<00:58, 27.14it/s]"
     ]
    },
    {
     "name": "stdout",
     "output_type": "stream",
     "text": [
      "Processing Row,  214\n",
      "Processing Row,  215\n",
      "Processing Row,  216\n",
      "Processing Row,  217\n",
      "Processing Row,  218\n",
      "Processing Row,  219\n"
     ]
    },
    {
     "name": "stderr",
     "output_type": "stream",
     "text": [
      " 12%|█▏        | 222/1792 [00:08<00:56, 27.99it/s]"
     ]
    },
    {
     "name": "stdout",
     "output_type": "stream",
     "text": [
      "Processing Row,  220\n",
      "Processing Row,  221\n",
      "Processing Row,  222\n",
      "Processing Row,  223\n",
      "Processing Row,  224\n",
      "Processing Row,  225\n"
     ]
    },
    {
     "name": "stderr",
     "output_type": "stream",
     "text": [
      " 13%|█▎        | 228/1792 [00:08<00:55, 28.43it/s]"
     ]
    },
    {
     "name": "stdout",
     "output_type": "stream",
     "text": [
      "Processing Row,  226\n",
      "Processing Row,  227\n",
      "Processing Row,  228\n",
      "Processing Row,  229\n",
      "Processing Row,  230\n",
      "Processing Row,  231\n"
     ]
    },
    {
     "name": "stderr",
     "output_type": "stream",
     "text": [
      " 13%|█▎        | 234/1792 [00:08<00:56, 27.78it/s]"
     ]
    },
    {
     "name": "stdout",
     "output_type": "stream",
     "text": [
      "Processing Row,  232\n",
      "Processing Row,  233\n",
      "Processing Row,  234\n",
      "Processing Row,  235\n",
      "Processing Row,  236\n",
      "Processing Row,  237\n"
     ]
    },
    {
     "name": "stderr",
     "output_type": "stream",
     "text": [
      " 13%|█▎        | 240/1792 [00:09<00:56, 27.31it/s]"
     ]
    },
    {
     "name": "stdout",
     "output_type": "stream",
     "text": [
      "Processing Row,  238\n",
      "Processing Row,  239\n",
      "Processing Row,  240\n",
      "Processing Row,  241\n",
      "Processing Row,  242\n",
      "Processing Row,  243\n"
     ]
    },
    {
     "name": "stderr",
     "output_type": "stream",
     "text": [
      " 14%|█▎        | 246/1792 [00:09<00:56, 27.38it/s]"
     ]
    },
    {
     "name": "stdout",
     "output_type": "stream",
     "text": [
      "Processing Row,  244\n",
      "Processing Row,  245\n",
      "Processing Row,  246\n",
      "Processing Row,  247\n",
      "Processing Row,  248\n",
      "Processing Row,  249\n"
     ]
    },
    {
     "name": "stderr",
     "output_type": "stream",
     "text": [
      " 14%|█▍        | 252/1792 [00:09<00:56, 27.32it/s]"
     ]
    },
    {
     "name": "stdout",
     "output_type": "stream",
     "text": [
      "Processing Row,  250\n",
      "Processing Row,  251\n",
      "Processing Row,  252\n",
      "Processing Row,  253\n",
      "Processing Row,  254\n",
      "Processing Row,  255\n"
     ]
    },
    {
     "name": "stderr",
     "output_type": "stream",
     "text": [
      " 14%|█▍        | 258/1792 [00:09<00:58, 26.18it/s]"
     ]
    },
    {
     "name": "stdout",
     "output_type": "stream",
     "text": [
      "Processing Row,  256\n",
      "Processing Row,  257\n",
      "Processing Row,  258\n",
      "Processing Row,  259\n",
      "Processing Row,  260\n",
      "Processing Row,  261\n"
     ]
    },
    {
     "name": "stderr",
     "output_type": "stream",
     "text": [
      " 15%|█▍        | 264/1792 [00:09<00:57, 26.52it/s]"
     ]
    },
    {
     "name": "stdout",
     "output_type": "stream",
     "text": [
      "Processing Row,  262\n",
      "Processing Row,  263\n",
      "Processing Row,  264\n",
      "Processing Row,  265\n",
      "Processing Row,  266\n",
      "Processing Row,  267\n"
     ]
    },
    {
     "name": "stderr",
     "output_type": "stream",
     "text": [
      " 15%|█▌        | 270/1792 [00:10<00:57, 26.26it/s]"
     ]
    },
    {
     "name": "stdout",
     "output_type": "stream",
     "text": [
      "Processing Row,  268\n",
      "Processing Row,  269\n",
      "Processing Row,  270\n",
      "Processing Row,  271\n",
      "Processing Row,  272\n",
      "Processing Row,  273\n"
     ]
    },
    {
     "name": "stderr",
     "output_type": "stream",
     "text": [
      " 15%|█▌        | 276/1792 [00:10<00:59, 25.52it/s]"
     ]
    },
    {
     "name": "stdout",
     "output_type": "stream",
     "text": [
      "Processing Row,  274\n",
      "Processing Row,  275\n",
      "Processing Row,  276\n",
      "Processing Row,  277\n",
      "Processing Row,  278\n",
      "Processing Row,  279\n"
     ]
    },
    {
     "name": "stderr",
     "output_type": "stream",
     "text": [
      "\r",
      " 16%|█▌        | 279/1792 [00:10<01:01, 24.54it/s]"
     ]
    },
    {
     "name": "stdout",
     "output_type": "stream",
     "text": [
      "Processing Row,  280\n",
      "Processing Row,  281\n"
     ]
    },
    {
     "name": "stderr",
     "output_type": "stream",
     "text": [
      "\r",
      " 16%|█▌        | 282/1792 [00:10<01:01, 24.41it/s]"
     ]
    },
    {
     "name": "stdout",
     "output_type": "stream",
     "text": [
      "Processing Row,  282\n",
      "Processing Row,  283\n",
      "Processing Row,  284\n"
     ]
    },
    {
     "name": "stderr",
     "output_type": "stream",
     "text": [
      "\r",
      " 16%|█▌        | 285/1792 [00:10<01:03, 23.60it/s]"
     ]
    },
    {
     "name": "stdout",
     "output_type": "stream",
     "text": [
      "Processing Row,  285\n",
      "Processing Row,  286\n"
     ]
    },
    {
     "name": "stderr",
     "output_type": "stream",
     "text": [
      "\r",
      " 16%|█▌        | 288/1792 [00:10<01:02, 24.21it/s]"
     ]
    },
    {
     "name": "stdout",
     "output_type": "stream",
     "text": [
      "Processing Row,  287\n",
      "Processing Row,  288\n",
      "Processing Row,  289\n",
      "Processing Row,  290\n"
     ]
    },
    {
     "name": "stderr",
     "output_type": "stream",
     "text": [
      "\r",
      " 16%|█▌        | 291/1792 [00:11<01:02, 24.05it/s]"
     ]
    },
    {
     "name": "stdout",
     "output_type": "stream",
     "text": [
      "Processing Row,  291\n"
     ]
    },
    {
     "name": "stderr",
     "output_type": "stream",
     "text": [
      "\r",
      " 16%|█▋        | 294/1792 [00:11<01:04, 23.38it/s]"
     ]
    },
    {
     "name": "stdout",
     "output_type": "stream",
     "text": [
      "Processing Row,  292\n",
      "Processing Row,  293\n",
      "Processing Row,  294\n",
      "Processing Row,  295\n",
      "Processing Row,  296\n"
     ]
    },
    {
     "name": "stderr",
     "output_type": "stream",
     "text": [
      "\r",
      " 17%|█▋        | 297/1792 [00:11<01:04, 23.26it/s]"
     ]
    },
    {
     "name": "stdout",
     "output_type": "stream",
     "text": [
      "Processing Row,  297\n",
      "Processing Row,  298\n",
      "Processing Row,  299\n",
      "Processing Row,  300\n"
     ]
    },
    {
     "name": "stderr",
     "output_type": "stream",
     "text": [
      "\r",
      " 17%|█▋        | 300/1792 [00:11<01:04, 23.28it/s]"
     ]
    },
    {
     "name": "stdout",
     "output_type": "stream",
     "text": [
      "Processing Row,  301\n"
     ]
    },
    {
     "name": "stderr",
     "output_type": "stream",
     "text": [
      "\r",
      " 17%|█▋        | 303/1792 [00:11<01:05, 22.73it/s]"
     ]
    },
    {
     "name": "stdout",
     "output_type": "stream",
     "text": [
      "Processing Row,  302\n",
      "Processing Row,  303\n",
      "Processing Row,  304\n",
      "Processing Row,  305\n"
     ]
    },
    {
     "name": "stderr",
     "output_type": "stream",
     "text": [
      "\r",
      " 17%|█▋        | 306/1792 [00:11<01:02, 23.67it/s]"
     ]
    },
    {
     "name": "stdout",
     "output_type": "stream",
     "text": [
      "Processing Row,  306\n",
      "Processing Row,  307\n"
     ]
    },
    {
     "name": "stderr",
     "output_type": "stream",
     "text": [
      "\r",
      " 17%|█▋        | 309/1792 [00:11<01:02, 23.87it/s]"
     ]
    },
    {
     "name": "stdout",
     "output_type": "stream",
     "text": [
      "Processing Row,  308\n",
      "Processing Row,  309\n",
      "Processing Row,  310\n",
      "Processing Row,  311\n"
     ]
    },
    {
     "name": "stderr",
     "output_type": "stream",
     "text": [
      "\r",
      " 17%|█▋        | 312/1792 [00:11<00:59, 24.68it/s]"
     ]
    },
    {
     "name": "stdout",
     "output_type": "stream",
     "text": [
      "Processing Row,  312\n",
      "Processing Row,  313\n"
     ]
    },
    {
     "name": "stderr",
     "output_type": "stream",
     "text": [
      "\r",
      " 18%|█▊        | 315/1792 [00:12<00:58, 25.13it/s]"
     ]
    },
    {
     "name": "stdout",
     "output_type": "stream",
     "text": [
      "Processing Row,  314\n",
      "Processing Row,  315\n",
      "Processing Row,  316\n",
      "Processing Row,  317\n"
     ]
    },
    {
     "name": "stderr",
     "output_type": "stream",
     "text": [
      "\r",
      " 18%|█▊        | 318/1792 [00:12<00:58, 25.28it/s]"
     ]
    },
    {
     "name": "stdout",
     "output_type": "stream",
     "text": [
      "Processing Row,  318\n",
      "Processing Row,  319\n"
     ]
    },
    {
     "name": "stderr",
     "output_type": "stream",
     "text": [
      "\r",
      " 18%|█▊        | 321/1792 [00:12<00:57, 25.52it/s]"
     ]
    },
    {
     "name": "stdout",
     "output_type": "stream",
     "text": [
      "Processing Row,  320\n",
      "Processing Row,  321\n",
      "Processing Row,  322\n",
      "Processing Row,  323\n"
     ]
    },
    {
     "name": "stderr",
     "output_type": "stream",
     "text": [
      "\r",
      " 18%|█▊        | 324/1792 [00:12<00:57, 25.58it/s]"
     ]
    },
    {
     "name": "stdout",
     "output_type": "stream",
     "text": [
      "Processing Row,  324\n",
      "Processing Row,  325\n"
     ]
    },
    {
     "name": "stderr",
     "output_type": "stream",
     "text": [
      "\r",
      " 18%|█▊        | 327/1792 [00:12<00:57, 25.44it/s]"
     ]
    },
    {
     "name": "stdout",
     "output_type": "stream",
     "text": [
      "Processing Row,  326\n",
      "Processing Row,  327\n",
      "Processing Row,  328\n",
      "Processing Row,  329\n"
     ]
    },
    {
     "name": "stderr",
     "output_type": "stream",
     "text": [
      "\r",
      " 18%|█▊        | 330/1792 [00:12<00:56, 26.03it/s]"
     ]
    },
    {
     "name": "stdout",
     "output_type": "stream",
     "text": [
      "Processing Row,  330\n",
      "Processing Row,  331\n"
     ]
    },
    {
     "name": "stderr",
     "output_type": "stream",
     "text": [
      "\r",
      " 19%|█▊        | 333/1792 [00:12<00:55, 26.09it/s]"
     ]
    },
    {
     "name": "stdout",
     "output_type": "stream",
     "text": [
      "Processing Row,  332\n",
      "Processing Row,  333\n",
      "Processing Row,  334\n",
      "Processing Row,  335\n"
     ]
    },
    {
     "name": "stderr",
     "output_type": "stream",
     "text": [
      "\r",
      " 19%|█▉        | 336/1792 [00:12<00:55, 26.15it/s]"
     ]
    },
    {
     "name": "stdout",
     "output_type": "stream",
     "text": [
      "Processing Row,  336\n",
      "Processing Row,  337\n"
     ]
    },
    {
     "name": "stderr",
     "output_type": "stream",
     "text": [
      "\r",
      " 19%|█▉        | 339/1792 [00:13<00:55, 26.26it/s]"
     ]
    },
    {
     "name": "stdout",
     "output_type": "stream",
     "text": [
      "Processing Row,  338\n",
      "Processing Row,  339\n",
      "Processing Row,  340\n",
      "Processing Row,  341\n"
     ]
    },
    {
     "name": "stderr",
     "output_type": "stream",
     "text": [
      "\r",
      " 19%|█▉        | 342/1792 [00:13<00:54, 26.48it/s]"
     ]
    },
    {
     "name": "stdout",
     "output_type": "stream",
     "text": [
      "Processing Row,  342\n",
      "Processing Row,  343\n"
     ]
    },
    {
     "name": "stderr",
     "output_type": "stream",
     "text": [
      "\r",
      " 19%|█▉        | 345/1792 [00:13<00:54, 26.53it/s]"
     ]
    },
    {
     "name": "stdout",
     "output_type": "stream",
     "text": [
      "Processing Row,  344\n",
      "Processing Row,  345\n",
      "Processing Row,  346\n",
      "Processing Row,  347\n"
     ]
    },
    {
     "name": "stderr",
     "output_type": "stream",
     "text": [
      "\r",
      " 19%|█▉        | 348/1792 [00:13<00:54, 26.57it/s]"
     ]
    },
    {
     "name": "stdout",
     "output_type": "stream",
     "text": [
      "Processing Row,  348\n",
      "Processing Row,  349\n"
     ]
    },
    {
     "name": "stderr",
     "output_type": "stream",
     "text": [
      "\r",
      " 20%|█▉        | 351/1792 [00:13<00:53, 26.71it/s]"
     ]
    },
    {
     "name": "stdout",
     "output_type": "stream",
     "text": [
      "Processing Row,  350\n",
      "Processing Row,  351\n",
      "Processing Row,  352\n",
      "Processing Row,  353\n"
     ]
    },
    {
     "name": "stderr",
     "output_type": "stream",
     "text": [
      "\r",
      " 20%|█▉        | 354/1792 [00:13<00:53, 26.92it/s]"
     ]
    },
    {
     "name": "stdout",
     "output_type": "stream",
     "text": [
      "Processing Row,  354\n",
      "Processing Row,  355\n"
     ]
    },
    {
     "name": "stderr",
     "output_type": "stream",
     "text": [
      "\r",
      " 20%|█▉        | 357/1792 [00:13<00:54, 26.15it/s]"
     ]
    },
    {
     "name": "stdout",
     "output_type": "stream",
     "text": [
      "Processing Row,  356\n",
      "Processing Row,  357\n",
      "Processing Row,  358\n",
      "Processing Row,  359\n"
     ]
    },
    {
     "name": "stderr",
     "output_type": "stream",
     "text": [
      "\r",
      " 20%|██        | 360/1792 [00:13<00:56, 25.37it/s]"
     ]
    },
    {
     "name": "stdout",
     "output_type": "stream",
     "text": [
      "Processing Row,  360\n"
     ]
    },
    {
     "name": "stderr",
     "output_type": "stream",
     "text": [
      "\r",
      " 20%|██        | 363/1792 [00:13<00:56, 25.25it/s]"
     ]
    },
    {
     "name": "stdout",
     "output_type": "stream",
     "text": [
      "Processing Row,  361\n",
      "Processing Row,  362\n",
      "Processing Row,  363\n",
      "Processing Row,  364\n",
      "Processing Row,  365\n"
     ]
    },
    {
     "name": "stderr",
     "output_type": "stream",
     "text": [
      " 21%|██        | 369/1792 [00:14<00:58, 24.17it/s]"
     ]
    },
    {
     "name": "stdout",
     "output_type": "stream",
     "text": [
      "Processing Row,  366\n",
      "Processing Row,  367\n",
      "Processing Row,  368\n",
      "Processing Row,  369\n",
      "Processing Row,  370\n",
      "Processing Row,  371\n"
     ]
    },
    {
     "name": "stderr",
     "output_type": "stream",
     "text": [
      " 21%|██        | 375/1792 [00:14<00:55, 25.43it/s]"
     ]
    },
    {
     "name": "stdout",
     "output_type": "stream",
     "text": [
      "Processing Row,  372\n",
      "Processing Row,  373\n",
      "Processing Row,  374\n",
      "Processing Row,  375\n",
      "Processing Row,  376\n",
      "Processing Row,  377\n"
     ]
    },
    {
     "name": "stderr",
     "output_type": "stream",
     "text": [
      " 21%|██▏       | 381/1792 [00:14<00:54, 25.93it/s]"
     ]
    },
    {
     "name": "stdout",
     "output_type": "stream",
     "text": [
      "Processing Row,  378\n",
      "Processing Row,  379\n",
      "Processing Row,  380\n",
      "Processing Row,  381\n",
      "Processing Row,  382\n",
      "Processing Row,  383\n"
     ]
    },
    {
     "name": "stderr",
     "output_type": "stream",
     "text": [
      " 22%|██▏       | 387/1792 [00:14<00:52, 26.67it/s]"
     ]
    },
    {
     "name": "stdout",
     "output_type": "stream",
     "text": [
      "Processing Row,  384\n",
      "Processing Row,  385\n",
      "Processing Row,  386\n",
      "Processing Row,  387\n",
      "Processing Row,  388\n",
      "Processing Row,  389\n"
     ]
    },
    {
     "name": "stderr",
     "output_type": "stream",
     "text": [
      " 22%|██▏       | 393/1792 [00:15<00:51, 27.04it/s]"
     ]
    },
    {
     "name": "stdout",
     "output_type": "stream",
     "text": [
      "Processing Row,  390\n",
      "Processing Row,  391\n",
      "Processing Row,  392\n",
      "Processing Row,  393\n",
      "Processing Row,  394\n",
      "Processing Row,  395\n"
     ]
    },
    {
     "name": "stderr",
     "output_type": "stream",
     "text": [
      " 22%|██▏       | 399/1792 [00:15<00:51, 26.96it/s]"
     ]
    },
    {
     "name": "stdout",
     "output_type": "stream",
     "text": [
      "Processing Row,  396\n",
      "Processing Row,  397\n",
      "Processing Row,  398\n",
      "Processing Row,  399\n",
      "Processing Row,  400\n",
      "Processing Row,  401\n"
     ]
    },
    {
     "name": "stderr",
     "output_type": "stream",
     "text": [
      " 23%|██▎       | 405/1792 [00:15<00:52, 26.18it/s]"
     ]
    },
    {
     "name": "stdout",
     "output_type": "stream",
     "text": [
      "Processing Row,  402\n",
      "Processing Row,  403\n",
      "Processing Row,  404\n",
      "Processing Row,  405\n",
      "Processing Row,  406\n",
      "Processing Row,  407\n"
     ]
    },
    {
     "name": "stderr",
     "output_type": "stream",
     "text": [
      " 23%|██▎       | 411/1792 [00:15<00:51, 27.04it/s]"
     ]
    },
    {
     "name": "stdout",
     "output_type": "stream",
     "text": [
      "Processing Row,  408\n",
      "Processing Row,  409\n",
      "Processing Row,  410\n",
      "Processing Row,  411\n",
      "Processing Row,  412\n",
      "Processing Row,  413\n"
     ]
    },
    {
     "name": "stderr",
     "output_type": "stream",
     "text": [
      " 23%|██▎       | 417/1792 [00:15<00:50, 27.13it/s]"
     ]
    },
    {
     "name": "stdout",
     "output_type": "stream",
     "text": [
      "Processing Row,  414\n",
      "Processing Row,  415\n",
      "Processing Row,  416\n",
      "Processing Row,  417\n",
      "Processing Row,  418\n",
      "Processing Row,  419\n"
     ]
    },
    {
     "name": "stderr",
     "output_type": "stream",
     "text": [
      " 24%|██▎       | 423/1792 [00:16<00:49, 27.40it/s]"
     ]
    },
    {
     "name": "stdout",
     "output_type": "stream",
     "text": [
      "Processing Row,  420\n",
      "Processing Row,  421\n",
      "Processing Row,  422\n",
      "Processing Row,  423\n",
      "Processing Row,  424\n",
      "Processing Row,  425\n"
     ]
    },
    {
     "name": "stderr",
     "output_type": "stream",
     "text": [
      " 24%|██▍       | 429/1792 [00:16<00:51, 26.68it/s]"
     ]
    },
    {
     "name": "stdout",
     "output_type": "stream",
     "text": [
      "Processing Row,  426\n",
      "Processing Row,  427\n",
      "Processing Row,  428\n",
      "Processing Row,  429\n",
      "Processing Row,  430\n",
      "Processing Row,  431\n"
     ]
    },
    {
     "name": "stderr",
     "output_type": "stream",
     "text": [
      " 24%|██▍       | 435/1792 [00:16<00:49, 27.32it/s]"
     ]
    },
    {
     "name": "stdout",
     "output_type": "stream",
     "text": [
      "Processing Row,  432\n",
      "Processing Row,  433\n",
      "Processing Row,  434\n",
      "Processing Row,  435\n",
      "Processing Row,  436\n",
      "Processing Row,  437\n"
     ]
    },
    {
     "name": "stderr",
     "output_type": "stream",
     "text": [
      " 25%|██▍       | 441/1792 [00:16<00:48, 27.61it/s]"
     ]
    },
    {
     "name": "stdout",
     "output_type": "stream",
     "text": [
      "Processing Row,  438\n",
      "Processing Row,  439\n",
      "Processing Row,  440\n",
      "Processing Row,  441\n",
      "Processing Row,  442\n",
      "Processing Row,  443\n"
     ]
    },
    {
     "name": "stderr",
     "output_type": "stream",
     "text": [
      " 25%|██▍       | 447/1792 [00:17<00:51, 26.36it/s]"
     ]
    },
    {
     "name": "stdout",
     "output_type": "stream",
     "text": [
      "Processing Row,  444\n",
      "Processing Row,  445\n",
      "Processing Row,  446\n",
      "Processing Row,  447\n",
      "Processing Row,  448\n",
      "Processing Row,  449\n"
     ]
    },
    {
     "name": "stderr",
     "output_type": "stream",
     "text": [
      "\r",
      " 25%|██▌       | 450/1792 [00:17<00:51, 26.26it/s]"
     ]
    },
    {
     "name": "stdout",
     "output_type": "stream",
     "text": [
      "Processing Row,  450\n",
      "Processing Row,  451\n",
      "Processing Row,  452\n",
      "Processing Row,  453\n"
     ]
    },
    {
     "name": "stderr",
     "output_type": "stream",
     "text": [
      " 25%|██▌       | 456/1792 [00:17<00:56, 23.79it/s]"
     ]
    },
    {
     "name": "stdout",
     "output_type": "stream",
     "text": [
      "Processing Row,  454\n",
      "Processing Row,  455\n",
      "Processing Row,  456\n",
      "Processing Row,  457\n",
      "Processing Row,  458\n",
      "Processing Row,  459\n"
     ]
    },
    {
     "name": "stderr",
     "output_type": "stream",
     "text": [
      " 26%|██▌       | 462/1792 [00:17<00:54, 24.39it/s]"
     ]
    },
    {
     "name": "stdout",
     "output_type": "stream",
     "text": [
      "Processing Row,  460\n",
      "Processing Row,  461\n",
      "Processing Row,  462\n",
      "Processing Row,  463\n",
      "Processing Row,  464\n",
      "Processing Row,  465\n"
     ]
    },
    {
     "name": "stderr",
     "output_type": "stream",
     "text": [
      " 26%|██▌       | 468/1792 [00:17<00:52, 25.42it/s]"
     ]
    },
    {
     "name": "stdout",
     "output_type": "stream",
     "text": [
      "Processing Row,  466\n",
      "Processing Row,  467\n",
      "Processing Row,  468\n",
      "Processing Row,  469\n",
      "Processing Row,  470\n",
      "Processing Row,  471\n"
     ]
    },
    {
     "name": "stderr",
     "output_type": "stream",
     "text": [
      " 26%|██▋       | 474/1792 [00:18<00:50, 25.93it/s]"
     ]
    },
    {
     "name": "stdout",
     "output_type": "stream",
     "text": [
      "Processing Row,  472\n",
      "Processing Row,  473\n",
      "Processing Row,  474\n",
      "Processing Row,  475\n",
      "Processing Row,  476\n",
      "Processing Row,  477\n"
     ]
    },
    {
     "name": "stderr",
     "output_type": "stream",
     "text": [
      " 27%|██▋       | 480/1792 [00:18<00:49, 26.53it/s]"
     ]
    },
    {
     "name": "stdout",
     "output_type": "stream",
     "text": [
      "Processing Row,  478\n",
      "Processing Row,  479\n",
      "Processing Row,  480\n",
      "Processing Row,  481\n",
      "Processing Row,  482\n",
      "Processing Row,  483\n"
     ]
    },
    {
     "name": "stderr",
     "output_type": "stream",
     "text": [
      " 27%|██▋       | 486/1792 [00:18<00:49, 26.52it/s]"
     ]
    },
    {
     "name": "stdout",
     "output_type": "stream",
     "text": [
      "Processing Row,  484\n",
      "Processing Row,  485\n",
      "Processing Row,  486\n",
      "Processing Row,  487\n",
      "Processing Row,  488\n",
      "Processing Row,  489\n"
     ]
    },
    {
     "name": "stderr",
     "output_type": "stream",
     "text": [
      " 27%|██▋       | 492/1792 [00:18<00:48, 26.96it/s]"
     ]
    },
    {
     "name": "stdout",
     "output_type": "stream",
     "text": [
      "Processing Row,  490\n",
      "Processing Row,  491\n",
      "Processing Row,  492\n",
      "Processing Row,  493\n",
      "Processing Row,  494\n",
      "Processing Row,  495\n"
     ]
    },
    {
     "name": "stderr",
     "output_type": "stream",
     "text": [
      " 28%|██▊       | 498/1792 [00:19<00:49, 26.26it/s]"
     ]
    },
    {
     "name": "stdout",
     "output_type": "stream",
     "text": [
      "Processing Row,  496\n",
      "Processing Row,  497\n",
      "Processing Row,  498\n",
      "Processing Row,  499\n",
      "Processing Row,  500\n",
      "Processing Row,  501\n"
     ]
    },
    {
     "name": "stderr",
     "output_type": "stream",
     "text": [
      " 28%|██▊       | 504/1792 [00:19<00:48, 26.29it/s]"
     ]
    },
    {
     "name": "stdout",
     "output_type": "stream",
     "text": [
      "Processing Row,  502\n",
      "Processing Row,  503\n",
      "Processing Row,  504\n",
      "Processing Row,  505\n",
      "Processing Row,  506\n",
      "Processing Row,  507\n"
     ]
    },
    {
     "name": "stderr",
     "output_type": "stream",
     "text": [
      " 28%|██▊       | 510/1792 [00:19<00:49, 26.13it/s]"
     ]
    },
    {
     "name": "stdout",
     "output_type": "stream",
     "text": [
      "Processing Row,  508\n",
      "Processing Row,  509\n",
      "Processing Row,  510\n",
      "Processing Row,  511\n",
      "Processing Row,  512\n",
      "Processing Row,  513\n"
     ]
    },
    {
     "name": "stderr",
     "output_type": "stream",
     "text": [
      " 29%|██▉       | 516/1792 [00:19<00:50, 25.15it/s]"
     ]
    },
    {
     "name": "stdout",
     "output_type": "stream",
     "text": [
      "Processing Row,  514\n",
      "Processing Row,  515\n",
      "Processing Row,  516\n",
      "Processing Row,  517\n",
      "Processing Row,  518\n"
     ]
    },
    {
     "name": "stderr",
     "output_type": "stream",
     "text": [
      " 29%|██▉       | 522/1792 [00:20<00:49, 25.54it/s]"
     ]
    },
    {
     "name": "stdout",
     "output_type": "stream",
     "text": [
      "Processing Row,  519\n",
      "Processing Row,  520\n",
      "Processing Row,  521\n",
      "Processing Row,  522\n",
      "Processing Row,  523\n",
      "Processing Row,  524\n"
     ]
    },
    {
     "name": "stderr",
     "output_type": "stream",
     "text": [
      " 29%|██▉       | 528/1792 [00:20<00:48, 26.06it/s]"
     ]
    },
    {
     "name": "stdout",
     "output_type": "stream",
     "text": [
      "Processing Row,  525\n",
      "Processing Row,  526\n",
      "Processing Row,  527\n",
      "Processing Row,  528\n",
      "Processing Row,  529\n",
      "Processing Row,  530\n"
     ]
    },
    {
     "name": "stderr",
     "output_type": "stream",
     "text": [
      " 30%|██▉       | 534/1792 [00:20<00:47, 26.70it/s]"
     ]
    },
    {
     "name": "stdout",
     "output_type": "stream",
     "text": [
      "Processing Row,  531\n",
      "Processing Row,  532\n",
      "Processing Row,  533\n",
      "Processing Row,  534\n",
      "Processing Row,  535\n",
      "Processing Row,  536\n"
     ]
    },
    {
     "name": "stderr",
     "output_type": "stream",
     "text": [
      " 30%|███       | 540/1792 [00:20<00:46, 26.99it/s]"
     ]
    },
    {
     "name": "stdout",
     "output_type": "stream",
     "text": [
      "Processing Row,  537\n",
      "Processing Row,  538\n",
      "Processing Row,  539\n",
      "Processing Row,  540\n",
      "Processing Row,  541\n",
      "Processing Row,  542\n"
     ]
    },
    {
     "name": "stderr",
     "output_type": "stream",
     "text": [
      " 30%|███       | 546/1792 [00:20<00:45, 27.18it/s]"
     ]
    },
    {
     "name": "stdout",
     "output_type": "stream",
     "text": [
      "Processing Row,  543\n",
      "Processing Row,  544\n",
      "Processing Row,  545\n",
      "Processing Row,  546\n",
      "Processing Row,  547\n",
      "Processing Row,  548\n"
     ]
    },
    {
     "name": "stderr",
     "output_type": "stream",
     "text": [
      " 31%|███       | 552/1792 [00:21<00:45, 27.06it/s]"
     ]
    },
    {
     "name": "stdout",
     "output_type": "stream",
     "text": [
      "Processing Row,  549\n",
      "Processing Row,  550\n",
      "Processing Row,  551\n",
      "Processing Row,  552\n",
      "Processing Row,  553\n",
      "Processing Row,  554\n"
     ]
    },
    {
     "name": "stderr",
     "output_type": "stream",
     "text": [
      " 31%|███       | 558/1792 [00:21<00:45, 27.11it/s]"
     ]
    },
    {
     "name": "stdout",
     "output_type": "stream",
     "text": [
      "Processing Row,  555\n",
      "Processing Row,  556\n",
      "Processing Row,  557\n",
      "Processing Row,  558\n",
      "Processing Row,  559\n",
      "Processing Row,  560\n"
     ]
    },
    {
     "name": "stderr",
     "output_type": "stream",
     "text": [
      " 31%|███▏      | 564/1792 [00:21<00:44, 27.85it/s]"
     ]
    },
    {
     "name": "stdout",
     "output_type": "stream",
     "text": [
      "Processing Row,  561\n",
      "Processing Row,  562\n",
      "Processing Row,  563\n",
      "Processing Row,  564\n",
      "Processing Row,  565\n",
      "Processing Row,  566\n"
     ]
    },
    {
     "name": "stderr",
     "output_type": "stream",
     "text": [
      " 32%|███▏      | 570/1792 [00:21<00:44, 27.38it/s]"
     ]
    },
    {
     "name": "stdout",
     "output_type": "stream",
     "text": [
      "Processing Row,  567\n",
      "Processing Row,  568\n",
      "Processing Row,  569\n",
      "Processing Row,  570\n",
      "Processing Row,  571\n",
      "Processing Row,  572\n"
     ]
    },
    {
     "name": "stderr",
     "output_type": "stream",
     "text": [
      " 32%|███▏      | 576/1792 [00:22<00:43, 27.88it/s]"
     ]
    },
    {
     "name": "stdout",
     "output_type": "stream",
     "text": [
      "Processing Row,  573\n",
      "Processing Row,  574\n",
      "Processing Row,  575\n",
      "Processing Row,  576\n",
      "Processing Row,  577\n",
      "Processing Row,  578\n"
     ]
    },
    {
     "name": "stderr",
     "output_type": "stream",
     "text": [
      " 32%|███▏      | 582/1792 [00:22<00:44, 27.34it/s]"
     ]
    },
    {
     "name": "stdout",
     "output_type": "stream",
     "text": [
      "Processing Row,  579\n",
      "Processing Row,  580\n",
      "Processing Row,  581\n",
      "Processing Row,  582\n",
      "Processing Row,  583\n",
      "Processing Row,  584\n"
     ]
    },
    {
     "name": "stderr",
     "output_type": "stream",
     "text": [
      " 33%|███▎      | 588/1792 [00:22<00:44, 27.30it/s]"
     ]
    },
    {
     "name": "stdout",
     "output_type": "stream",
     "text": [
      "Processing Row,  585\n",
      "Processing Row,  586\n",
      "Processing Row,  587\n",
      "Processing Row,  588\n",
      "Processing Row,  589\n",
      "Processing Row,  590\n"
     ]
    },
    {
     "name": "stderr",
     "output_type": "stream",
     "text": [
      " 33%|███▎      | 594/1792 [00:22<00:43, 27.66it/s]"
     ]
    },
    {
     "name": "stdout",
     "output_type": "stream",
     "text": [
      "Processing Row,  591\n",
      "Processing Row,  592\n",
      "Processing Row,  593\n",
      "Processing Row,  594\n",
      "Processing Row,  595\n",
      "Processing Row,  596\n"
     ]
    },
    {
     "name": "stderr",
     "output_type": "stream",
     "text": [
      " 33%|███▎      | 600/1792 [00:22<00:43, 27.67it/s]"
     ]
    },
    {
     "name": "stdout",
     "output_type": "stream",
     "text": [
      "Processing Row,  597\n",
      "Processing Row,  598\n",
      "Processing Row,  599\n",
      "Processing Row,  600\n",
      "Processing Row,  601\n",
      "Processing Row,  602\n"
     ]
    },
    {
     "name": "stderr",
     "output_type": "stream",
     "text": [
      " 34%|███▍      | 606/1792 [00:23<00:43, 27.58it/s]"
     ]
    },
    {
     "name": "stdout",
     "output_type": "stream",
     "text": [
      "Processing Row,  603\n",
      "Processing Row,  604\n",
      "Processing Row,  605\n",
      "Processing Row,  606\n",
      "Processing Row,  607\n",
      "Processing Row,  608\n"
     ]
    },
    {
     "name": "stderr",
     "output_type": "stream",
     "text": [
      " 34%|███▍      | 612/1792 [00:23<00:43, 27.10it/s]"
     ]
    },
    {
     "name": "stdout",
     "output_type": "stream",
     "text": [
      "Processing Row,  609\n",
      "Processing Row,  610\n",
      "Processing Row,  611\n",
      "Processing Row,  612\n",
      "Processing Row,  613\n",
      "Processing Row,  614\n"
     ]
    },
    {
     "name": "stderr",
     "output_type": "stream",
     "text": [
      " 34%|███▍      | 618/1792 [00:23<00:43, 27.26it/s]"
     ]
    },
    {
     "name": "stdout",
     "output_type": "stream",
     "text": [
      "Processing Row,  615\n",
      "Processing Row,  616\n",
      "Processing Row,  617\n",
      "Processing Row,  618\n",
      "Processing Row,  619\n",
      "Processing Row,  620\n"
     ]
    },
    {
     "name": "stderr",
     "output_type": "stream",
     "text": [
      " 35%|███▍      | 624/1792 [00:23<00:42, 27.35it/s]"
     ]
    },
    {
     "name": "stdout",
     "output_type": "stream",
     "text": [
      "Processing Row,  621\n",
      "Processing Row,  622\n",
      "Processing Row,  623\n",
      "Processing Row,  624\n",
      "Processing Row,  625\n",
      "Processing Row,  626\n"
     ]
    },
    {
     "name": "stderr",
     "output_type": "stream",
     "text": [
      " 35%|███▌      | 630/1792 [00:23<00:42, 27.12it/s]"
     ]
    },
    {
     "name": "stdout",
     "output_type": "stream",
     "text": [
      "Processing Row,  627\n",
      "Processing Row,  628\n",
      "Processing Row,  629\n",
      "Processing Row,  630\n",
      "Processing Row,  631\n",
      "Processing Row,  632\n"
     ]
    },
    {
     "name": "stderr",
     "output_type": "stream",
     "text": [
      " 35%|███▌      | 636/1792 [00:24<00:41, 27.79it/s]"
     ]
    },
    {
     "name": "stdout",
     "output_type": "stream",
     "text": [
      "Processing Row,  633\n",
      "Processing Row,  634\n",
      "Processing Row,  635\n",
      "Processing Row,  636\n",
      "Processing Row,  637\n",
      "Processing Row,  638\n"
     ]
    },
    {
     "name": "stderr",
     "output_type": "stream",
     "text": [
      " 36%|███▌      | 642/1792 [00:24<00:40, 28.25it/s]"
     ]
    },
    {
     "name": "stdout",
     "output_type": "stream",
     "text": [
      "Processing Row,  639\n",
      "Processing Row,  640\n",
      "Processing Row,  641\n",
      "Processing Row,  642\n",
      "Processing Row,  643\n",
      "Processing Row,  644\n"
     ]
    },
    {
     "name": "stderr",
     "output_type": "stream",
     "text": [
      " 36%|███▌      | 648/1792 [00:24<00:41, 27.73it/s]"
     ]
    },
    {
     "name": "stdout",
     "output_type": "stream",
     "text": [
      "Processing Row,  645\n",
      "Processing Row,  646\n",
      "Processing Row,  647\n",
      "Processing Row,  648\n",
      "Processing Row,  649\n",
      "Processing Row,  650\n"
     ]
    },
    {
     "name": "stderr",
     "output_type": "stream",
     "text": [
      " 36%|███▋      | 654/1792 [00:24<00:42, 26.55it/s]"
     ]
    },
    {
     "name": "stdout",
     "output_type": "stream",
     "text": [
      "Processing Row,  651\n",
      "Processing Row,  652\n",
      "Processing Row,  653\n",
      "Processing Row,  654\n",
      "Processing Row,  655\n",
      "Processing Row,  656\n"
     ]
    },
    {
     "name": "stderr",
     "output_type": "stream",
     "text": [
      " 37%|███▋      | 660/1792 [00:25<00:41, 27.13it/s]"
     ]
    },
    {
     "name": "stdout",
     "output_type": "stream",
     "text": [
      "Processing Row,  657\n",
      "Processing Row,  658\n",
      "Processing Row,  659\n",
      "Processing Row,  660\n",
      "Processing Row,  661\n",
      "Processing Row,  662\n"
     ]
    },
    {
     "name": "stderr",
     "output_type": "stream",
     "text": [
      " 37%|███▋      | 666/1792 [00:25<00:41, 27.09it/s]"
     ]
    },
    {
     "name": "stdout",
     "output_type": "stream",
     "text": [
      "Processing Row,  663\n",
      "Processing Row,  664\n",
      "Processing Row,  665\n",
      "Processing Row,  666\n",
      "Processing Row,  667\n",
      "Processing Row,  668\n"
     ]
    },
    {
     "name": "stderr",
     "output_type": "stream",
     "text": [
      " 38%|███▊      | 672/1792 [00:25<00:41, 27.07it/s]"
     ]
    },
    {
     "name": "stdout",
     "output_type": "stream",
     "text": [
      "Processing Row,  669\n",
      "Processing Row,  670\n",
      "Processing Row,  671\n",
      "Processing Row,  672\n",
      "Processing Row,  673\n",
      "Processing Row,  674\n"
     ]
    },
    {
     "name": "stderr",
     "output_type": "stream",
     "text": [
      " 38%|███▊      | 678/1792 [00:25<00:41, 26.87it/s]"
     ]
    },
    {
     "name": "stdout",
     "output_type": "stream",
     "text": [
      "Processing Row,  675\n",
      "Processing Row,  676\n",
      "Processing Row,  677\n",
      "Processing Row,  678\n",
      "Processing Row,  679\n",
      "Processing Row,  680\n"
     ]
    },
    {
     "name": "stderr",
     "output_type": "stream",
     "text": [
      " 38%|███▊      | 684/1792 [00:25<00:40, 27.22it/s]"
     ]
    },
    {
     "name": "stdout",
     "output_type": "stream",
     "text": [
      "Processing Row,  681\n",
      "Processing Row,  682\n",
      "Processing Row,  683\n",
      "Processing Row,  684\n",
      "Processing Row,  685\n",
      "Processing Row,  686\n"
     ]
    },
    {
     "name": "stderr",
     "output_type": "stream",
     "text": [
      " 39%|███▊      | 690/1792 [00:26<00:40, 27.55it/s]"
     ]
    },
    {
     "name": "stdout",
     "output_type": "stream",
     "text": [
      "Processing Row,  687\n",
      "Processing Row,  688\n",
      "Processing Row,  689\n",
      "Processing Row,  690\n",
      "Processing Row,  691\n",
      "Processing Row,  692\n"
     ]
    },
    {
     "name": "stderr",
     "output_type": "stream",
     "text": [
      " 39%|███▉      | 696/1792 [00:26<00:39, 27.41it/s]"
     ]
    },
    {
     "name": "stdout",
     "output_type": "stream",
     "text": [
      "Processing Row,  693\n",
      "Processing Row,  694\n",
      "Processing Row,  695\n",
      "Processing Row,  696\n",
      "Processing Row,  697\n",
      "Processing Row,  698\n"
     ]
    },
    {
     "name": "stderr",
     "output_type": "stream",
     "text": [
      " 39%|███▉      | 702/1792 [00:26<00:39, 27.41it/s]"
     ]
    },
    {
     "name": "stdout",
     "output_type": "stream",
     "text": [
      "Processing Row,  699\n",
      "Processing Row,  700\n",
      "Processing Row,  701\n",
      "Processing Row,  702\n",
      "Processing Row,  703\n",
      "Processing Row,  704\n"
     ]
    },
    {
     "name": "stderr",
     "output_type": "stream",
     "text": [
      " 40%|███▉      | 708/1792 [00:26<00:39, 27.49it/s]"
     ]
    },
    {
     "name": "stdout",
     "output_type": "stream",
     "text": [
      "Processing Row,  705\n",
      "Processing Row,  706\n",
      "Processing Row,  707\n",
      "Processing Row,  708\n",
      "Processing Row,  709\n",
      "Processing Row,  710\n"
     ]
    },
    {
     "name": "stderr",
     "output_type": "stream",
     "text": [
      " 40%|███▉      | 714/1792 [00:27<00:40, 26.76it/s]"
     ]
    },
    {
     "name": "stdout",
     "output_type": "stream",
     "text": [
      "Processing Row,  711\n",
      "Processing Row,  712\n",
      "Processing Row,  713\n",
      "Processing Row,  714\n",
      "Processing Row,  715\n",
      "Processing Row,  716\n"
     ]
    },
    {
     "name": "stderr",
     "output_type": "stream",
     "text": [
      " 40%|████      | 720/1792 [00:27<00:38, 27.67it/s]"
     ]
    },
    {
     "name": "stdout",
     "output_type": "stream",
     "text": [
      "Processing Row,  717\n",
      "Processing Row,  718\n",
      "Processing Row,  719\n",
      "Processing Row,  720\n",
      "Processing Row,  721\n",
      "Processing Row,  722\n"
     ]
    },
    {
     "name": "stderr",
     "output_type": "stream",
     "text": [
      " 41%|████      | 726/1792 [00:27<00:37, 28.09it/s]"
     ]
    },
    {
     "name": "stdout",
     "output_type": "stream",
     "text": [
      "Processing Row,  723\n",
      "Processing Row,  724\n",
      "Processing Row,  725\n",
      "Processing Row,  726\n",
      "Processing Row,  727\n",
      "Processing Row,  728\n"
     ]
    },
    {
     "name": "stderr",
     "output_type": "stream",
     "text": [
      " 41%|████      | 732/1792 [00:27<00:37, 28.03it/s]"
     ]
    },
    {
     "name": "stdout",
     "output_type": "stream",
     "text": [
      "Processing Row,  729\n",
      "Processing Row,  730\n",
      "Processing Row,  731\n",
      "Processing Row,  732\n",
      "Processing Row,  733\n",
      "Processing Row,  734\n"
     ]
    },
    {
     "name": "stderr",
     "output_type": "stream",
     "text": [
      " 41%|████      | 738/1792 [00:27<00:37, 28.13it/s]"
     ]
    },
    {
     "name": "stdout",
     "output_type": "stream",
     "text": [
      "Processing Row,  735\n",
      "Processing Row,  736\n",
      "Processing Row,  737\n",
      "Processing Row,  738\n",
      "Processing Row,  739\n",
      "Processing Row,  740\n"
     ]
    },
    {
     "name": "stderr",
     "output_type": "stream",
     "text": [
      " 42%|████▏     | 744/1792 [00:28<00:37, 28.29it/s]"
     ]
    },
    {
     "name": "stdout",
     "output_type": "stream",
     "text": [
      "Processing Row,  741\n",
      "Processing Row,  742\n",
      "Processing Row,  743\n",
      "Processing Row,  744\n",
      "Processing Row,  745\n",
      "Processing Row,  746\n"
     ]
    },
    {
     "name": "stderr",
     "output_type": "stream",
     "text": [
      " 42%|████▏     | 750/1792 [00:28<00:36, 28.44it/s]"
     ]
    },
    {
     "name": "stdout",
     "output_type": "stream",
     "text": [
      "Processing Row,  747\n",
      "Processing Row,  748\n",
      "Processing Row,  749\n",
      "Processing Row,  750\n",
      "Processing Row,  751\n",
      "Processing Row,  752\n"
     ]
    },
    {
     "name": "stderr",
     "output_type": "stream",
     "text": [
      " 42%|████▏     | 756/1792 [00:28<00:36, 28.73it/s]"
     ]
    },
    {
     "name": "stdout",
     "output_type": "stream",
     "text": [
      "Processing Row,  753\n",
      "Processing Row,  754\n",
      "Processing Row,  755\n",
      "Processing Row,  756\n",
      "Processing Row,  757\n",
      "Processing Row,  758\n"
     ]
    },
    {
     "name": "stderr",
     "output_type": "stream",
     "text": [
      " 43%|████▎     | 762/1792 [00:28<00:35, 28.62it/s]"
     ]
    },
    {
     "name": "stdout",
     "output_type": "stream",
     "text": [
      "Processing Row,  759\n",
      "Processing Row,  760\n",
      "Processing Row,  761\n",
      "Processing Row,  762\n",
      "Processing Row,  763\n",
      "Processing Row,  764\n"
     ]
    },
    {
     "name": "stderr",
     "output_type": "stream",
     "text": [
      " 43%|████▎     | 768/1792 [00:28<00:37, 27.40it/s]"
     ]
    },
    {
     "name": "stdout",
     "output_type": "stream",
     "text": [
      "Processing Row,  765\n",
      "Processing Row,  766\n",
      "Processing Row,  767\n",
      "Processing Row,  768\n",
      "Processing Row,  769\n",
      "Processing Row,  770\n"
     ]
    },
    {
     "name": "stderr",
     "output_type": "stream",
     "text": [
      " 43%|████▎     | 774/1792 [00:29<00:36, 28.12it/s]"
     ]
    },
    {
     "name": "stdout",
     "output_type": "stream",
     "text": [
      "Processing Row,  771\n",
      "Processing Row,  772\n",
      "Processing Row,  773\n",
      "Processing Row,  774\n",
      "Processing Row,  775\n",
      "Processing Row,  776\n"
     ]
    },
    {
     "name": "stderr",
     "output_type": "stream",
     "text": [
      " 44%|████▎     | 780/1792 [00:29<00:35, 28.26it/s]"
     ]
    },
    {
     "name": "stdout",
     "output_type": "stream",
     "text": [
      "Processing Row,  777\n",
      "Processing Row,  778\n",
      "Processing Row,  779\n",
      "Processing Row,  780\n",
      "Processing Row,  781\n",
      "Processing Row,  782\n"
     ]
    },
    {
     "name": "stderr",
     "output_type": "stream",
     "text": [
      " 44%|████▍     | 786/1792 [00:29<00:35, 28.22it/s]"
     ]
    },
    {
     "name": "stdout",
     "output_type": "stream",
     "text": [
      "Processing Row,  783\n",
      "Processing Row,  784\n",
      "Processing Row,  785\n",
      "Processing Row,  786\n",
      "Processing Row,  787\n",
      "Processing Row,  788\n"
     ]
    },
    {
     "name": "stderr",
     "output_type": "stream",
     "text": [
      " 44%|████▍     | 792/1792 [00:29<00:35, 28.42it/s]"
     ]
    },
    {
     "name": "stdout",
     "output_type": "stream",
     "text": [
      "Processing Row,  789\n",
      "Processing Row,  790\n",
      "Processing Row,  791\n",
      "Processing Row,  792\n",
      "Processing Row,  793\n",
      "Processing Row,  794\n"
     ]
    },
    {
     "name": "stderr",
     "output_type": "stream",
     "text": [
      " 45%|████▍     | 798/1792 [00:30<00:34, 28.58it/s]"
     ]
    },
    {
     "name": "stdout",
     "output_type": "stream",
     "text": [
      "Processing Row,  795\n",
      "Processing Row,  796\n",
      "Processing Row,  797\n",
      "Processing Row,  798\n",
      "Processing Row,  799\n",
      "Processing Row,  800\n"
     ]
    },
    {
     "name": "stderr",
     "output_type": "stream",
     "text": [
      " 45%|████▍     | 804/1792 [00:30<00:36, 27.32it/s]"
     ]
    },
    {
     "name": "stdout",
     "output_type": "stream",
     "text": [
      "Processing Row,  801\n",
      "Processing Row,  802\n",
      "Processing Row,  803\n",
      "Processing Row,  804\n",
      "Processing Row,  805\n",
      "Processing Row,  806\n"
     ]
    },
    {
     "name": "stderr",
     "output_type": "stream",
     "text": [
      " 45%|████▌     | 810/1792 [00:30<00:35, 27.96it/s]"
     ]
    },
    {
     "name": "stdout",
     "output_type": "stream",
     "text": [
      "Processing Row,  807\n",
      "Processing Row,  808\n",
      "Processing Row,  809\n",
      "Processing Row,  810\n",
      "Processing Row,  811\n",
      "Processing Row,  812\n"
     ]
    },
    {
     "name": "stderr",
     "output_type": "stream",
     "text": [
      " 46%|████▌     | 816/1792 [00:30<00:34, 28.45it/s]"
     ]
    },
    {
     "name": "stdout",
     "output_type": "stream",
     "text": [
      "Processing Row,  813\n",
      "Processing Row,  814\n",
      "Processing Row,  815\n",
      "Processing Row,  816\n",
      "Processing Row,  817\n",
      "Processing Row,  818\n"
     ]
    },
    {
     "name": "stderr",
     "output_type": "stream",
     "text": [
      " 46%|████▌     | 822/1792 [00:30<00:36, 26.60it/s]"
     ]
    },
    {
     "name": "stdout",
     "output_type": "stream",
     "text": [
      "Processing Row,  819\n",
      "Processing Row,  820\n",
      "Processing Row,  821\n",
      "Processing Row,  822\n",
      "Processing Row,  823\n"
     ]
    },
    {
     "name": "stderr",
     "output_type": "stream",
     "text": [
      " 46%|████▌     | 828/1792 [00:31<00:34, 27.71it/s]"
     ]
    },
    {
     "name": "stdout",
     "output_type": "stream",
     "text": [
      "Processing Row,  824\n",
      "Processing Row,  825\n",
      "Processing Row,  826\n",
      "Processing Row,  827\n",
      "Processing Row,  828\n",
      "Processing Row,  829\n"
     ]
    },
    {
     "name": "stderr",
     "output_type": "stream",
     "text": [
      " 47%|████▋     | 834/1792 [00:31<00:33, 28.18it/s]"
     ]
    },
    {
     "name": "stdout",
     "output_type": "stream",
     "text": [
      "Processing Row,  830\n",
      "Processing Row,  831\n",
      "Processing Row,  832\n",
      "Processing Row,  833\n",
      "Processing Row,  834\n",
      "Processing Row,  835\n"
     ]
    },
    {
     "name": "stderr",
     "output_type": "stream",
     "text": [
      " 47%|████▋     | 840/1792 [00:31<00:33, 28.50it/s]"
     ]
    },
    {
     "name": "stdout",
     "output_type": "stream",
     "text": [
      "Processing Row,  836\n",
      "Processing Row,  837\n",
      "Processing Row,  838\n",
      "Processing Row,  839\n",
      "Processing Row,  840\n",
      "Processing Row,  841\n"
     ]
    },
    {
     "name": "stderr",
     "output_type": "stream",
     "text": [
      " 47%|████▋     | 846/1792 [00:31<00:33, 28.66it/s]"
     ]
    },
    {
     "name": "stdout",
     "output_type": "stream",
     "text": [
      "Processing Row,  842\n",
      "Processing Row,  843\n",
      "Processing Row,  844\n",
      "Processing Row,  845\n",
      "Processing Row,  846\n",
      "Processing Row,  847\n"
     ]
    },
    {
     "name": "stderr",
     "output_type": "stream",
     "text": [
      " 48%|████▊     | 852/1792 [00:31<00:33, 27.76it/s]"
     ]
    },
    {
     "name": "stdout",
     "output_type": "stream",
     "text": [
      "Processing Row,  848\n",
      "Processing Row,  849\n",
      "Processing Row,  850\n",
      "Processing Row,  851\n",
      "Processing Row,  852\n",
      "Processing Row,  853\n"
     ]
    },
    {
     "name": "stderr",
     "output_type": "stream",
     "text": [
      " 48%|████▊     | 858/1792 [00:32<00:33, 28.03it/s]"
     ]
    },
    {
     "name": "stdout",
     "output_type": "stream",
     "text": [
      "Processing Row,  854\n",
      "Processing Row,  855\n",
      "Processing Row,  856\n",
      "Processing Row,  857\n",
      "Processing Row,  858\n",
      "Processing Row,  859\n"
     ]
    },
    {
     "name": "stderr",
     "output_type": "stream",
     "text": [
      " 48%|████▊     | 864/1792 [00:32<00:32, 28.13it/s]"
     ]
    },
    {
     "name": "stdout",
     "output_type": "stream",
     "text": [
      "Processing Row,  860\n",
      "Processing Row,  861\n",
      "Processing Row,  862\n",
      "Processing Row,  863\n",
      "Processing Row,  864\n",
      "Processing Row,  865\n"
     ]
    },
    {
     "name": "stderr",
     "output_type": "stream",
     "text": [
      " 49%|████▊     | 870/1792 [00:32<00:32, 28.51it/s]"
     ]
    },
    {
     "name": "stdout",
     "output_type": "stream",
     "text": [
      "Processing Row,  866\n",
      "Processing Row,  867\n",
      "Processing Row,  868\n",
      "Processing Row,  869\n",
      "Processing Row,  870\n",
      "Processing Row,  871\n"
     ]
    },
    {
     "name": "stderr",
     "output_type": "stream",
     "text": [
      " 49%|████▉     | 876/1792 [00:32<00:31, 28.63it/s]"
     ]
    },
    {
     "name": "stdout",
     "output_type": "stream",
     "text": [
      "Processing Row,  872\n",
      "Processing Row,  873\n",
      "Processing Row,  874\n",
      "Processing Row,  875\n",
      "Processing Row,  876\n",
      "Processing Row,  877\n"
     ]
    },
    {
     "name": "stderr",
     "output_type": "stream",
     "text": [
      " 49%|████▉     | 882/1792 [00:33<00:31, 28.76it/s]"
     ]
    },
    {
     "name": "stdout",
     "output_type": "stream",
     "text": [
      "Processing Row,  878\n",
      "Processing Row,  879\n",
      "Processing Row,  880\n",
      "Processing Row,  881\n",
      "Processing Row,  882\n",
      "Processing Row,  883\n"
     ]
    },
    {
     "name": "stderr",
     "output_type": "stream",
     "text": [
      " 50%|████▉     | 888/1792 [00:33<00:31, 28.84it/s]"
     ]
    },
    {
     "name": "stdout",
     "output_type": "stream",
     "text": [
      "Processing Row,  884\n",
      "Processing Row,  885\n",
      "Processing Row,  886\n",
      "Processing Row,  887\n",
      "Processing Row,  888\n",
      "Processing Row,  889\n"
     ]
    },
    {
     "name": "stderr",
     "output_type": "stream",
     "text": [
      " 50%|████▉     | 894/1792 [00:33<00:31, 28.75it/s]"
     ]
    },
    {
     "name": "stdout",
     "output_type": "stream",
     "text": [
      "Processing Row,  890\n",
      "Processing Row,  891\n",
      "Processing Row,  892\n",
      "Processing Row,  893\n",
      "Processing Row,  894\n",
      "Processing Row,  895\n"
     ]
    },
    {
     "name": "stderr",
     "output_type": "stream",
     "text": [
      " 50%|█████     | 900/1792 [00:33<00:32, 27.21it/s]"
     ]
    },
    {
     "name": "stdout",
     "output_type": "stream",
     "text": [
      "Processing Row,  896\n",
      "Processing Row,  897\n",
      "Processing Row,  898\n",
      "Processing Row,  899\n",
      "Processing Row,  900\n",
      "Processing Row,  901\n"
     ]
    },
    {
     "name": "stderr",
     "output_type": "stream",
     "text": [
      " 51%|█████     | 906/1792 [00:33<00:31, 27.89it/s]"
     ]
    },
    {
     "name": "stdout",
     "output_type": "stream",
     "text": [
      "Processing Row,  902\n",
      "Processing Row,  903\n",
      "Processing Row,  904\n",
      "Processing Row,  905\n",
      "Processing Row,  906\n",
      "Processing Row,  907\n"
     ]
    },
    {
     "name": "stderr",
     "output_type": "stream",
     "text": [
      " 51%|█████     | 912/1792 [00:34<00:30, 28.42it/s]"
     ]
    },
    {
     "name": "stdout",
     "output_type": "stream",
     "text": [
      "Processing Row,  908\n",
      "Processing Row,  909\n",
      "Processing Row,  910\n",
      "Processing Row,  911\n",
      "Processing Row,  912\n",
      "Processing Row,  913\n"
     ]
    },
    {
     "name": "stderr",
     "output_type": "stream",
     "text": [
      " 51%|█████     | 918/1792 [00:34<00:30, 28.65it/s]"
     ]
    },
    {
     "name": "stdout",
     "output_type": "stream",
     "text": [
      "Processing Row,  914\n",
      "Processing Row,  915\n",
      "Processing Row,  916\n",
      "Processing Row,  917\n",
      "Processing Row,  918\n",
      "Processing Row,  919\n"
     ]
    },
    {
     "name": "stderr",
     "output_type": "stream",
     "text": [
      " 52%|█████▏    | 924/1792 [00:34<00:30, 28.81it/s]"
     ]
    },
    {
     "name": "stdout",
     "output_type": "stream",
     "text": [
      "Processing Row,  920\n",
      "Processing Row,  921\n",
      "Processing Row,  922\n",
      "Processing Row,  923\n",
      "Processing Row,  924\n",
      "Processing Row,  925\n"
     ]
    },
    {
     "name": "stderr",
     "output_type": "stream",
     "text": [
      " 52%|█████▏    | 930/1792 [00:34<00:31, 27.43it/s]"
     ]
    },
    {
     "name": "stdout",
     "output_type": "stream",
     "text": [
      "Processing Row,  926\n",
      "Processing Row,  927\n",
      "Processing Row,  928\n",
      "Processing Row,  929\n",
      "Processing Row,  930\n",
      "Processing Row,  931\n"
     ]
    },
    {
     "name": "stderr",
     "output_type": "stream",
     "text": [
      " 52%|█████▏    | 936/1792 [00:34<00:30, 28.13it/s]"
     ]
    },
    {
     "name": "stdout",
     "output_type": "stream",
     "text": [
      "Processing Row,  932\n",
      "Processing Row,  933\n",
      "Processing Row,  934\n",
      "Processing Row,  935\n",
      "Processing Row,  936\n",
      "Processing Row,  937\n"
     ]
    },
    {
     "name": "stderr",
     "output_type": "stream",
     "text": [
      " 53%|█████▎    | 942/1792 [00:35<00:29, 28.35it/s]"
     ]
    },
    {
     "name": "stdout",
     "output_type": "stream",
     "text": [
      "Processing Row,  938\n",
      "Processing Row,  939\n",
      "Processing Row,  940\n",
      "Processing Row,  941\n",
      "Processing Row,  942\n",
      "Processing Row,  943\n"
     ]
    },
    {
     "name": "stderr",
     "output_type": "stream",
     "text": [
      " 53%|█████▎    | 948/1792 [00:35<00:29, 28.44it/s]"
     ]
    },
    {
     "name": "stdout",
     "output_type": "stream",
     "text": [
      "Processing Row,  944\n",
      "Processing Row,  945\n",
      "Processing Row,  946\n",
      "Processing Row,  947\n",
      "Processing Row,  948\n",
      "Processing Row,  949\n"
     ]
    },
    {
     "name": "stderr",
     "output_type": "stream",
     "text": [
      " 53%|█████▎    | 954/1792 [00:35<00:29, 28.63it/s]"
     ]
    },
    {
     "name": "stdout",
     "output_type": "stream",
     "text": [
      "Processing Row,  950\n",
      "Processing Row,  951\n",
      "Processing Row,  952\n",
      "Processing Row,  953\n",
      "Processing Row,  954\n",
      "Processing Row,  955\n"
     ]
    },
    {
     "name": "stderr",
     "output_type": "stream",
     "text": [
      " 54%|█████▎    | 960/1792 [00:35<00:28, 28.74it/s]"
     ]
    },
    {
     "name": "stdout",
     "output_type": "stream",
     "text": [
      "Processing Row,  956\n",
      "Processing Row,  957\n",
      "Processing Row,  958\n",
      "Processing Row,  959\n",
      "Processing Row,  960\n",
      "Processing Row,  961\n"
     ]
    },
    {
     "name": "stderr",
     "output_type": "stream",
     "text": [
      " 54%|█████▍    | 966/1792 [00:36<00:29, 27.83it/s]"
     ]
    },
    {
     "name": "stdout",
     "output_type": "stream",
     "text": [
      "Processing Row,  962\n",
      "Processing Row,  963\n",
      "Processing Row,  964\n",
      "Processing Row,  965\n",
      "Processing Row,  966\n",
      "Processing Row,  967\n"
     ]
    },
    {
     "name": "stderr",
     "output_type": "stream",
     "text": [
      " 54%|█████▍    | 972/1792 [00:36<00:30, 27.19it/s]"
     ]
    },
    {
     "name": "stdout",
     "output_type": "stream",
     "text": [
      "Processing Row,  968\n",
      "Processing Row,  969\n",
      "Processing Row,  970\n",
      "Processing Row,  971\n",
      "Processing Row,  972\n",
      "Processing Row,  973\n"
     ]
    },
    {
     "name": "stderr",
     "output_type": "stream",
     "text": [
      " 55%|█████▍    | 978/1792 [00:36<00:29, 28.04it/s]"
     ]
    },
    {
     "name": "stdout",
     "output_type": "stream",
     "text": [
      "Processing Row,  974\n",
      "Processing Row,  975\n",
      "Processing Row,  976\n",
      "Processing Row,  977\n",
      "Processing Row,  978\n",
      "Processing Row,  979\n"
     ]
    },
    {
     "name": "stderr",
     "output_type": "stream",
     "text": [
      " 55%|█████▍    | 984/1792 [00:36<00:28, 28.49it/s]"
     ]
    },
    {
     "name": "stdout",
     "output_type": "stream",
     "text": [
      "Processing Row,  980\n",
      "Processing Row,  981\n",
      "Processing Row,  982\n",
      "Processing Row,  983\n",
      "Processing Row,  984\n",
      "Processing Row,  985\n"
     ]
    },
    {
     "name": "stderr",
     "output_type": "stream",
     "text": [
      " 55%|█████▌    | 990/1792 [00:36<00:28, 28.59it/s]"
     ]
    },
    {
     "name": "stdout",
     "output_type": "stream",
     "text": [
      "Processing Row,  986\n",
      "Processing Row,  987\n",
      "Processing Row,  988\n",
      "Processing Row,  989\n",
      "Processing Row,  990\n",
      "Processing Row,  991\n"
     ]
    },
    {
     "name": "stderr",
     "output_type": "stream",
     "text": [
      " 56%|█████▌    | 996/1792 [00:37<00:28, 28.38it/s]"
     ]
    },
    {
     "name": "stdout",
     "output_type": "stream",
     "text": [
      "Processing Row,  992\n",
      "Processing Row,  993\n",
      "Processing Row,  994\n",
      "Processing Row,  995\n",
      "Processing Row,  996\n",
      "Processing Row,  997\n"
     ]
    },
    {
     "name": "stderr",
     "output_type": "stream",
     "text": [
      " 56%|█████▌    | 1002/1792 [00:37<00:27, 28.39it/s]"
     ]
    },
    {
     "name": "stdout",
     "output_type": "stream",
     "text": [
      "Processing Row,  998\n",
      "Processing Row,  999\n",
      "Processing Row,  1000\n",
      "Processing Row,  1001\n",
      "Processing Row,  1002\n",
      "Processing Row,  1003\n"
     ]
    },
    {
     "name": "stderr",
     "output_type": "stream",
     "text": [
      " 56%|█████▋    | 1008/1792 [00:37<00:27, 28.44it/s]"
     ]
    },
    {
     "name": "stdout",
     "output_type": "stream",
     "text": [
      "Processing Row,  1004\n",
      "Processing Row,  1005\n",
      "Processing Row,  1006\n",
      "Processing Row,  1007\n",
      "Processing Row,  1008\n",
      "Processing Row,  1009\n"
     ]
    },
    {
     "name": "stderr",
     "output_type": "stream",
     "text": [
      " 57%|█████▋    | 1014/1792 [00:37<00:27, 28.61it/s]"
     ]
    },
    {
     "name": "stdout",
     "output_type": "stream",
     "text": [
      "Processing Row,  1010\n",
      "Processing Row,  1011\n",
      "Processing Row,  1012\n",
      "Processing Row,  1013\n",
      "Processing Row,  1014\n",
      "Processing Row,  1015\n"
     ]
    },
    {
     "name": "stderr",
     "output_type": "stream",
     "text": [
      " 57%|█████▋    | 1020/1792 [00:37<00:26, 28.67it/s]"
     ]
    },
    {
     "name": "stdout",
     "output_type": "stream",
     "text": [
      "Processing Row,  1016\n",
      "Processing Row,  1017\n",
      "Processing Row,  1018\n",
      "Processing Row,  1019\n",
      "Processing Row,  1020\n",
      "Processing Row,  1021\n"
     ]
    },
    {
     "name": "stderr",
     "output_type": "stream",
     "text": [
      " 57%|█████▋    | 1026/1792 [00:38<00:27, 27.68it/s]"
     ]
    },
    {
     "name": "stdout",
     "output_type": "stream",
     "text": [
      "Processing Row,  1022\n",
      "Processing Row,  1023\n",
      "Processing Row,  1024\n",
      "Processing Row,  1025\n",
      "Processing Row,  1026\n",
      "Processing Row,  1027\n"
     ]
    },
    {
     "name": "stderr",
     "output_type": "stream",
     "text": [
      " 58%|█████▊    | 1032/1792 [00:38<00:26, 28.21it/s]"
     ]
    },
    {
     "name": "stdout",
     "output_type": "stream",
     "text": [
      "Processing Row,  1028\n",
      "Processing Row,  1029\n",
      "Processing Row,  1030\n",
      "Processing Row,  1031\n",
      "Processing Row,  1032\n",
      "Processing Row,  1033\n"
     ]
    },
    {
     "name": "stderr",
     "output_type": "stream",
     "text": [
      " 58%|█████▊    | 1038/1792 [00:38<00:26, 28.63it/s]"
     ]
    },
    {
     "name": "stdout",
     "output_type": "stream",
     "text": [
      "Processing Row,  1034\n",
      "Processing Row,  1035\n",
      "Processing Row,  1036\n",
      "Processing Row,  1037\n",
      "Processing Row,  1038\n",
      "Processing Row,  1039\n"
     ]
    },
    {
     "name": "stderr",
     "output_type": "stream",
     "text": [
      " 58%|█████▊    | 1044/1792 [00:38<00:26, 28.59it/s]"
     ]
    },
    {
     "name": "stdout",
     "output_type": "stream",
     "text": [
      "Processing Row,  1040\n",
      "Processing Row,  1041\n",
      "Processing Row,  1042\n",
      "Processing Row,  1043\n",
      "Processing Row,  1044\n",
      "Processing Row,  1045\n"
     ]
    },
    {
     "name": "stderr",
     "output_type": "stream",
     "text": [
      " 59%|█████▊    | 1050/1792 [00:38<00:25, 28.63it/s]"
     ]
    },
    {
     "name": "stdout",
     "output_type": "stream",
     "text": [
      "Processing Row,  1046\n",
      "Processing Row,  1047\n",
      "Processing Row,  1048\n",
      "Processing Row,  1049\n",
      "Processing Row,  1050\n",
      "Processing Row,  1051\n"
     ]
    },
    {
     "name": "stderr",
     "output_type": "stream",
     "text": [
      " 59%|█████▉    | 1056/1792 [00:39<00:25, 28.78it/s]"
     ]
    },
    {
     "name": "stdout",
     "output_type": "stream",
     "text": [
      "Processing Row,  1052\n",
      "Processing Row,  1053\n",
      "Processing Row,  1054\n",
      "Processing Row,  1055\n",
      "Processing Row,  1056\n",
      "Processing Row,  1057\n"
     ]
    },
    {
     "name": "stderr",
     "output_type": "stream",
     "text": [
      " 59%|█████▉    | 1062/1792 [00:39<00:25, 28.70it/s]"
     ]
    },
    {
     "name": "stdout",
     "output_type": "stream",
     "text": [
      "Processing Row,  1058\n",
      "Processing Row,  1059\n",
      "Processing Row,  1060\n",
      "Processing Row,  1061\n",
      "Processing Row,  1062\n",
      "Processing Row,  1063\n"
     ]
    },
    {
     "name": "stderr",
     "output_type": "stream",
     "text": [
      " 60%|█████▉    | 1068/1792 [00:39<00:25, 28.80it/s]"
     ]
    },
    {
     "name": "stdout",
     "output_type": "stream",
     "text": [
      "Processing Row,  1064\n",
      "Processing Row,  1065\n",
      "Processing Row,  1066\n",
      "Processing Row,  1067\n",
      "Processing Row,  1068\n",
      "Processing Row,  1069\n"
     ]
    },
    {
     "name": "stderr",
     "output_type": "stream",
     "text": [
      " 60%|█████▉    | 1074/1792 [00:39<00:26, 27.40it/s]"
     ]
    },
    {
     "name": "stdout",
     "output_type": "stream",
     "text": [
      "Processing Row,  1070\n",
      "Processing Row,  1071\n",
      "Processing Row,  1072\n",
      "Processing Row,  1073\n",
      "Processing Row,  1074\n",
      "Processing Row,  1075\n"
     ]
    },
    {
     "name": "stderr",
     "output_type": "stream",
     "text": [
      " 60%|██████    | 1080/1792 [00:40<00:25, 28.10it/s]"
     ]
    },
    {
     "name": "stdout",
     "output_type": "stream",
     "text": [
      "Processing Row,  1076\n",
      "Processing Row,  1077\n",
      "Processing Row,  1078\n",
      "Processing Row,  1079\n",
      "Processing Row,  1080\n",
      "Processing Row,  1081\n"
     ]
    },
    {
     "name": "stderr",
     "output_type": "stream",
     "text": [
      " 61%|██████    | 1086/1792 [00:40<00:24, 28.43it/s]"
     ]
    },
    {
     "name": "stdout",
     "output_type": "stream",
     "text": [
      "Processing Row,  1082\n",
      "Processing Row,  1083\n",
      "Processing Row,  1084\n",
      "Processing Row,  1085\n",
      "Processing Row,  1086\n",
      "Processing Row,  1087\n"
     ]
    },
    {
     "name": "stderr",
     "output_type": "stream",
     "text": [
      " 61%|██████    | 1092/1792 [00:40<00:24, 28.66it/s]"
     ]
    },
    {
     "name": "stdout",
     "output_type": "stream",
     "text": [
      "Processing Row,  1088\n",
      "Processing Row,  1089\n",
      "Processing Row,  1090\n",
      "Processing Row,  1091\n",
      "Processing Row,  1092\n",
      "Processing Row,  1093\n"
     ]
    },
    {
     "name": "stderr",
     "output_type": "stream",
     "text": [
      " 61%|██████▏   | 1098/1792 [00:40<00:24, 28.80it/s]"
     ]
    },
    {
     "name": "stdout",
     "output_type": "stream",
     "text": [
      "Processing Row,  1094\n",
      "Processing Row,  1095\n",
      "Processing Row,  1096\n",
      "Processing Row,  1097\n",
      "Processing Row,  1098\n",
      "Processing Row,  1099\n"
     ]
    },
    {
     "name": "stderr",
     "output_type": "stream",
     "text": [
      " 62%|██████▏   | 1104/1792 [00:40<00:23, 28.80it/s]"
     ]
    },
    {
     "name": "stdout",
     "output_type": "stream",
     "text": [
      "Processing Row,  1100\n",
      "Processing Row,  1101\n",
      "Processing Row,  1102\n",
      "Processing Row,  1103\n",
      "Processing Row,  1104\n",
      "Processing Row,  1105\n"
     ]
    },
    {
     "name": "stderr",
     "output_type": "stream",
     "text": [
      " 62%|██████▏   | 1110/1792 [00:41<00:23, 28.89it/s]"
     ]
    },
    {
     "name": "stdout",
     "output_type": "stream",
     "text": [
      "Processing Row,  1106\n",
      "Processing Row,  1107\n",
      "Processing Row,  1108\n",
      "Processing Row,  1109\n",
      "Processing Row,  1110\n",
      "Processing Row,  1111\n"
     ]
    },
    {
     "name": "stderr",
     "output_type": "stream",
     "text": [
      " 62%|██████▏   | 1116/1792 [00:41<00:23, 28.74it/s]"
     ]
    },
    {
     "name": "stdout",
     "output_type": "stream",
     "text": [
      "Processing Row,  1112\n",
      "Processing Row,  1113\n",
      "Processing Row,  1114\n",
      "Processing Row,  1115\n",
      "Processing Row,  1116\n",
      "Processing Row,  1117\n"
     ]
    },
    {
     "name": "stderr",
     "output_type": "stream",
     "text": [
      " 63%|██████▎   | 1122/1792 [00:41<00:23, 28.91it/s]"
     ]
    },
    {
     "name": "stdout",
     "output_type": "stream",
     "text": [
      "Processing Row,  1118\n",
      "Processing Row,  1119\n",
      "Processing Row,  1120\n",
      "Processing Row,  1121\n",
      "Processing Row,  1122\n",
      "Processing Row,  1123\n"
     ]
    },
    {
     "name": "stderr",
     "output_type": "stream",
     "text": [
      " 63%|██████▎   | 1128/1792 [00:41<00:23, 28.83it/s]"
     ]
    },
    {
     "name": "stdout",
     "output_type": "stream",
     "text": [
      "Processing Row,  1124\n",
      "Processing Row,  1125\n",
      "Processing Row,  1126\n",
      "Processing Row,  1127\n",
      "Processing Row,  1128\n",
      "Processing Row,  1129\n"
     ]
    },
    {
     "name": "stderr",
     "output_type": "stream",
     "text": [
      " 63%|██████▎   | 1134/1792 [00:41<00:22, 28.62it/s]"
     ]
    },
    {
     "name": "stdout",
     "output_type": "stream",
     "text": [
      "Processing Row,  1130\n",
      "Processing Row,  1131\n",
      "Processing Row,  1132\n",
      "Processing Row,  1133\n",
      "Processing Row,  1134\n",
      "Processing Row,  1135\n"
     ]
    },
    {
     "name": "stderr",
     "output_type": "stream",
     "text": [
      " 64%|██████▎   | 1140/1792 [00:42<00:23, 28.24it/s]"
     ]
    },
    {
     "name": "stdout",
     "output_type": "stream",
     "text": [
      "Processing Row,  1136\n",
      "Processing Row,  1137\n",
      "Processing Row,  1138\n",
      "Processing Row,  1139\n",
      "Processing Row,  1140\n",
      "Processing Row,  1141\n"
     ]
    },
    {
     "name": "stderr",
     "output_type": "stream",
     "text": [
      " 64%|██████▍   | 1146/1792 [00:42<00:22, 28.16it/s]"
     ]
    },
    {
     "name": "stdout",
     "output_type": "stream",
     "text": [
      "Processing Row,  1142\n",
      "Processing Row,  1143\n",
      "Processing Row,  1144\n",
      "Processing Row,  1145\n",
      "Processing Row,  1146\n",
      "Processing Row,  1147\n"
     ]
    },
    {
     "name": "stderr",
     "output_type": "stream",
     "text": [
      " 64%|██████▍   | 1152/1792 [00:42<00:22, 28.50it/s]"
     ]
    },
    {
     "name": "stdout",
     "output_type": "stream",
     "text": [
      "Processing Row,  1148\n",
      "Processing Row,  1149\n",
      "Processing Row,  1150\n",
      "Processing Row,  1151\n",
      "Processing Row,  1152\n",
      "Processing Row,  1153\n"
     ]
    },
    {
     "name": "stderr",
     "output_type": "stream",
     "text": [
      " 65%|██████▍   | 1158/1792 [00:42<00:22, 28.68it/s]"
     ]
    },
    {
     "name": "stdout",
     "output_type": "stream",
     "text": [
      "Processing Row,  1154\n",
      "Processing Row,  1155\n",
      "Processing Row,  1156\n",
      "Processing Row,  1157\n",
      "Processing Row,  1158\n",
      "Processing Row,  1159\n"
     ]
    },
    {
     "name": "stderr",
     "output_type": "stream",
     "text": [
      " 65%|██████▍   | 1164/1792 [00:42<00:22, 27.65it/s]"
     ]
    },
    {
     "name": "stdout",
     "output_type": "stream",
     "text": [
      "Processing Row,  1160\n",
      "Processing Row,  1161\n",
      "Processing Row,  1162\n",
      "Processing Row,  1163\n",
      "Processing Row,  1164\n",
      "Processing Row,  1165\n"
     ]
    },
    {
     "name": "stderr",
     "output_type": "stream",
     "text": [
      " 65%|██████▌   | 1170/1792 [00:43<00:22, 28.11it/s]"
     ]
    },
    {
     "name": "stdout",
     "output_type": "stream",
     "text": [
      "Processing Row,  1166\n",
      "Processing Row,  1167\n",
      "Processing Row,  1168\n",
      "Processing Row,  1169\n",
      "Processing Row,  1170\n",
      "Processing Row,  1171\n"
     ]
    },
    {
     "name": "stderr",
     "output_type": "stream",
     "text": [
      " 66%|██████▌   | 1176/1792 [00:43<00:21, 28.18it/s]"
     ]
    },
    {
     "name": "stdout",
     "output_type": "stream",
     "text": [
      "Processing Row,  1172\n",
      "Processing Row,  1173\n",
      "Processing Row,  1174\n",
      "Processing Row,  1175\n",
      "Processing Row,  1176\n",
      "Processing Row,  1177\n"
     ]
    },
    {
     "name": "stderr",
     "output_type": "stream",
     "text": [
      " 66%|██████▌   | 1182/1792 [00:43<00:21, 28.39it/s]"
     ]
    },
    {
     "name": "stdout",
     "output_type": "stream",
     "text": [
      "Processing Row,  1178\n",
      "Processing Row,  1179\n",
      "Processing Row,  1180\n",
      "Processing Row,  1181\n",
      "Processing Row,  1182\n",
      "Processing Row,  1183\n"
     ]
    },
    {
     "name": "stderr",
     "output_type": "stream",
     "text": [
      " 66%|██████▋   | 1188/1792 [00:43<00:21, 28.60it/s]"
     ]
    },
    {
     "name": "stdout",
     "output_type": "stream",
     "text": [
      "Processing Row,  1184\n",
      "Processing Row,  1185\n",
      "Processing Row,  1186\n",
      "Processing Row,  1187\n",
      "Processing Row,  1188\n",
      "Processing Row,  1189\n"
     ]
    },
    {
     "name": "stderr",
     "output_type": "stream",
     "text": [
      " 67%|██████▋   | 1194/1792 [00:44<00:21, 28.09it/s]"
     ]
    },
    {
     "name": "stdout",
     "output_type": "stream",
     "text": [
      "Processing Row,  1190\n",
      "Processing Row,  1191\n",
      "Processing Row,  1192\n",
      "Processing Row,  1193\n",
      "Processing Row,  1194\n",
      "Processing Row,  1195\n"
     ]
    },
    {
     "name": "stderr",
     "output_type": "stream",
     "text": [
      " 67%|██████▋   | 1200/1792 [00:44<00:20, 28.54it/s]"
     ]
    },
    {
     "name": "stdout",
     "output_type": "stream",
     "text": [
      "Processing Row,  1196\n",
      "Processing Row,  1197\n",
      "Processing Row,  1198\n",
      "Processing Row,  1199\n",
      "Processing Row,  1200\n",
      "Processing Row,  1201\n"
     ]
    },
    {
     "name": "stderr",
     "output_type": "stream",
     "text": [
      " 67%|██████▋   | 1206/1792 [00:44<00:20, 28.55it/s]"
     ]
    },
    {
     "name": "stdout",
     "output_type": "stream",
     "text": [
      "Processing Row,  1202\n",
      "Processing Row,  1203\n",
      "Processing Row,  1204\n",
      "Processing Row,  1205\n",
      "Processing Row,  1206\n",
      "Processing Row,  1207\n"
     ]
    },
    {
     "name": "stderr",
     "output_type": "stream",
     "text": [
      " 68%|██████▊   | 1212/1792 [00:44<00:20, 28.62it/s]"
     ]
    },
    {
     "name": "stdout",
     "output_type": "stream",
     "text": [
      "Processing Row,  1208\n",
      "Processing Row,  1209\n",
      "Processing Row,  1210\n",
      "Processing Row,  1211\n",
      "Processing Row,  1212\n",
      "Processing Row,  1213\n"
     ]
    },
    {
     "name": "stderr",
     "output_type": "stream",
     "text": [
      " 68%|██████▊   | 1218/1792 [00:44<00:20, 28.60it/s]"
     ]
    },
    {
     "name": "stdout",
     "output_type": "stream",
     "text": [
      "Processing Row,  1214\n",
      "Processing Row,  1215\n",
      "Processing Row,  1216\n",
      "Processing Row,  1217\n",
      "Processing Row,  1218\n",
      "Processing Row,  1219\n"
     ]
    },
    {
     "name": "stderr",
     "output_type": "stream",
     "text": [
      " 68%|██████▊   | 1224/1792 [00:45<00:19, 28.70it/s]"
     ]
    },
    {
     "name": "stdout",
     "output_type": "stream",
     "text": [
      "Processing Row,  1220\n",
      "Processing Row,  1221\n",
      "Processing Row,  1222\n",
      "Processing Row,  1223\n",
      "Processing Row,  1224\n",
      "Processing Row,  1225\n"
     ]
    },
    {
     "name": "stderr",
     "output_type": "stream",
     "text": [
      " 69%|██████▊   | 1230/1792 [00:45<00:20, 27.67it/s]"
     ]
    },
    {
     "name": "stdout",
     "output_type": "stream",
     "text": [
      "Processing Row,  1226\n",
      "Processing Row,  1227\n",
      "Processing Row,  1228\n",
      "Processing Row,  1229\n",
      "Processing Row,  1230\n",
      "Processing Row,  1231\n"
     ]
    },
    {
     "name": "stderr",
     "output_type": "stream",
     "text": [
      " 69%|██████▉   | 1236/1792 [00:45<00:19, 27.90it/s]"
     ]
    },
    {
     "name": "stdout",
     "output_type": "stream",
     "text": [
      "Processing Row,  1232\n",
      "Processing Row,  1233\n",
      "Processing Row,  1234\n",
      "Processing Row,  1235\n",
      "Processing Row,  1236\n",
      "Processing Row,  1237\n"
     ]
    },
    {
     "name": "stderr",
     "output_type": "stream",
     "text": [
      " 69%|██████▉   | 1242/1792 [00:45<00:19, 28.37it/s]"
     ]
    },
    {
     "name": "stdout",
     "output_type": "stream",
     "text": [
      "Processing Row,  1238\n",
      "Processing Row,  1239\n",
      "Processing Row,  1240\n",
      "Processing Row,  1241\n",
      "Processing Row,  1242\n",
      "Processing Row,  1243\n"
     ]
    },
    {
     "name": "stderr",
     "output_type": "stream",
     "text": [
      " 70%|██████▉   | 1248/1792 [00:45<00:19, 27.52it/s]"
     ]
    },
    {
     "name": "stdout",
     "output_type": "stream",
     "text": [
      "Processing Row,  1244\n",
      "Processing Row,  1245\n",
      "Processing Row,  1246\n",
      "Processing Row,  1247\n",
      "Processing Row,  1248\n",
      "Processing Row,  1249\n"
     ]
    },
    {
     "name": "stderr",
     "output_type": "stream",
     "text": [
      " 70%|██████▉   | 1254/1792 [00:46<00:19, 28.05it/s]"
     ]
    },
    {
     "name": "stdout",
     "output_type": "stream",
     "text": [
      "Processing Row,  1250\n",
      "Processing Row,  1251\n",
      "Processing Row,  1252\n",
      "Processing Row,  1253\n",
      "Processing Row,  1254\n",
      "Processing Row,  1255\n"
     ]
    },
    {
     "name": "stderr",
     "output_type": "stream",
     "text": [
      " 70%|███████   | 1260/1792 [00:46<00:19, 27.61it/s]"
     ]
    },
    {
     "name": "stdout",
     "output_type": "stream",
     "text": [
      "Processing Row,  1256\n",
      "Processing Row,  1257\n",
      "Processing Row,  1258\n",
      "Processing Row,  1259\n",
      "Processing Row,  1260\n",
      "Processing Row,  1261\n"
     ]
    },
    {
     "name": "stderr",
     "output_type": "stream",
     "text": [
      " 71%|███████   | 1266/1792 [00:46<00:18, 28.07it/s]"
     ]
    },
    {
     "name": "stdout",
     "output_type": "stream",
     "text": [
      "Processing Row,  1262\n",
      "Processing Row,  1263\n",
      "Processing Row,  1264\n",
      "Processing Row,  1265\n",
      "Processing Row,  1266\n",
      "Processing Row,  1267\n"
     ]
    },
    {
     "name": "stderr",
     "output_type": "stream",
     "text": [
      " 71%|███████   | 1272/1792 [00:46<00:18, 28.37it/s]"
     ]
    },
    {
     "name": "stdout",
     "output_type": "stream",
     "text": [
      "Processing Row,  1268\n",
      "Processing Row,  1269\n",
      "Processing Row,  1270\n",
      "Processing Row,  1271\n",
      "Processing Row,  1272\n",
      "Processing Row,  1273\n"
     ]
    },
    {
     "name": "stderr",
     "output_type": "stream",
     "text": [
      " 71%|███████▏  | 1278/1792 [00:47<00:17, 28.61it/s]"
     ]
    },
    {
     "name": "stdout",
     "output_type": "stream",
     "text": [
      "Processing Row,  1274\n",
      "Processing Row,  1275\n",
      "Processing Row,  1276\n",
      "Processing Row,  1277\n",
      "Processing Row,  1278\n",
      "Processing Row,  1279\n"
     ]
    },
    {
     "name": "stderr",
     "output_type": "stream",
     "text": [
      " 72%|███████▏  | 1284/1792 [00:47<00:17, 28.42it/s]"
     ]
    },
    {
     "name": "stdout",
     "output_type": "stream",
     "text": [
      "Processing Row,  1280\n",
      "Processing Row,  1281\n",
      "Processing Row,  1282\n",
      "Processing Row,  1283\n",
      "Processing Row,  1284\n",
      "Processing Row,  1285\n"
     ]
    },
    {
     "name": "stderr",
     "output_type": "stream",
     "text": [
      " 72%|███████▏  | 1290/1792 [00:47<00:17, 28.56it/s]"
     ]
    },
    {
     "name": "stdout",
     "output_type": "stream",
     "text": [
      "Processing Row,  1286\n",
      "Processing Row,  1287\n",
      "Processing Row,  1288\n",
      "Processing Row,  1289\n",
      "Processing Row,  1290\n",
      "Processing Row,  1291\n"
     ]
    },
    {
     "name": "stderr",
     "output_type": "stream",
     "text": [
      " 72%|███████▏  | 1296/1792 [00:47<00:17, 28.74it/s]"
     ]
    },
    {
     "name": "stdout",
     "output_type": "stream",
     "text": [
      "Processing Row,  1292\n",
      "Processing Row,  1293\n",
      "Processing Row,  1294\n",
      "Processing Row,  1295\n",
      "Processing Row,  1296\n",
      "Processing Row,  1297\n"
     ]
    },
    {
     "name": "stderr",
     "output_type": "stream",
     "text": [
      " 73%|███████▎  | 1302/1792 [00:47<00:17, 28.73it/s]"
     ]
    },
    {
     "name": "stdout",
     "output_type": "stream",
     "text": [
      "Processing Row,  1298\n",
      "Processing Row,  1299\n",
      "Processing Row,  1300\n",
      "Processing Row,  1301\n",
      "Processing Row,  1302\n",
      "Processing Row,  1303\n"
     ]
    },
    {
     "name": "stderr",
     "output_type": "stream",
     "text": [
      " 73%|███████▎  | 1308/1792 [00:48<00:17, 28.47it/s]"
     ]
    },
    {
     "name": "stdout",
     "output_type": "stream",
     "text": [
      "Processing Row,  1304\n",
      "Processing Row,  1305\n",
      "Processing Row,  1306\n",
      "Processing Row,  1307\n",
      "Processing Row,  1308\n",
      "Processing Row,  1309\n"
     ]
    },
    {
     "name": "stderr",
     "output_type": "stream",
     "text": [
      " 73%|███████▎  | 1314/1792 [00:48<00:16, 28.38it/s]"
     ]
    },
    {
     "name": "stdout",
     "output_type": "stream",
     "text": [
      "Processing Row,  1310\n",
      "Processing Row,  1311\n",
      "Processing Row,  1312\n",
      "Processing Row,  1313\n",
      "Processing Row,  1314\n",
      "Processing Row,  1315\n"
     ]
    },
    {
     "name": "stderr",
     "output_type": "stream",
     "text": [
      " 74%|███████▎  | 1320/1792 [00:48<00:16, 28.23it/s]"
     ]
    },
    {
     "name": "stdout",
     "output_type": "stream",
     "text": [
      "Processing Row,  1316\n",
      "Processing Row,  1317\n",
      "Processing Row,  1318\n",
      "Processing Row,  1319\n",
      "Processing Row,  1320\n",
      "Processing Row,  1321\n"
     ]
    },
    {
     "name": "stderr",
     "output_type": "stream",
     "text": [
      " 74%|███████▍  | 1326/1792 [00:48<00:16, 28.40it/s]"
     ]
    },
    {
     "name": "stdout",
     "output_type": "stream",
     "text": [
      "Processing Row,  1322\n",
      "Processing Row,  1323\n",
      "Processing Row,  1324\n",
      "Processing Row,  1325\n",
      "Processing Row,  1326\n",
      "Processing Row,  1327\n"
     ]
    },
    {
     "name": "stderr",
     "output_type": "stream",
     "text": [
      " 74%|███████▍  | 1332/1792 [00:48<00:16, 28.64it/s]"
     ]
    },
    {
     "name": "stdout",
     "output_type": "stream",
     "text": [
      "Processing Row,  1328\n",
      "Processing Row,  1329\n",
      "Processing Row,  1330\n",
      "Processing Row,  1331\n",
      "Processing Row,  1332\n",
      "Processing Row,  1333\n"
     ]
    },
    {
     "name": "stderr",
     "output_type": "stream",
     "text": [
      " 75%|███████▍  | 1338/1792 [00:49<00:16, 27.63it/s]"
     ]
    },
    {
     "name": "stdout",
     "output_type": "stream",
     "text": [
      "Processing Row,  1334\n",
      "Processing Row,  1335\n",
      "Processing Row,  1336\n",
      "Processing Row,  1337\n",
      "Processing Row,  1338\n",
      "Processing Row,  1339\n"
     ]
    },
    {
     "name": "stderr",
     "output_type": "stream",
     "text": [
      " 75%|███████▌  | 1344/1792 [00:49<00:16, 27.96it/s]"
     ]
    },
    {
     "name": "stdout",
     "output_type": "stream",
     "text": [
      "Processing Row,  1340\n",
      "Processing Row,  1341\n",
      "Processing Row,  1342\n",
      "Processing Row,  1343\n",
      "Processing Row,  1344\n",
      "Processing Row,  1345\n"
     ]
    },
    {
     "name": "stderr",
     "output_type": "stream",
     "text": [
      " 75%|███████▌  | 1350/1792 [00:49<00:15, 28.26it/s]"
     ]
    },
    {
     "name": "stdout",
     "output_type": "stream",
     "text": [
      "Processing Row,  1346\n",
      "Processing Row,  1347\n",
      "Processing Row,  1348\n",
      "Processing Row,  1349\n",
      "Processing Row,  1350\n",
      "Processing Row,  1351\n"
     ]
    },
    {
     "name": "stderr",
     "output_type": "stream",
     "text": [
      " 76%|███████▌  | 1356/1792 [00:49<00:15, 28.45it/s]"
     ]
    },
    {
     "name": "stdout",
     "output_type": "stream",
     "text": [
      "Processing Row,  1352\n",
      "Processing Row,  1353\n",
      "Processing Row,  1354\n",
      "Processing Row,  1355\n",
      "Processing Row,  1356\n",
      "Processing Row,  1357\n"
     ]
    },
    {
     "name": "stderr",
     "output_type": "stream",
     "text": [
      " 76%|███████▌  | 1362/1792 [00:49<00:15, 28.34it/s]"
     ]
    },
    {
     "name": "stdout",
     "output_type": "stream",
     "text": [
      "Processing Row,  1358\n",
      "Processing Row,  1359\n",
      "Processing Row,  1360\n",
      "Processing Row,  1361\n",
      "Processing Row,  1362\n",
      "Processing Row,  1363\n"
     ]
    },
    {
     "name": "stderr",
     "output_type": "stream",
     "text": [
      " 76%|███████▋  | 1368/1792 [00:50<00:14, 28.65it/s]"
     ]
    },
    {
     "name": "stdout",
     "output_type": "stream",
     "text": [
      "Processing Row,  1364\n",
      "Processing Row,  1365\n",
      "Processing Row,  1366\n",
      "Processing Row,  1367\n",
      "Processing Row,  1368\n",
      "Processing Row,  1369\n"
     ]
    },
    {
     "name": "stderr",
     "output_type": "stream",
     "text": [
      " 77%|███████▋  | 1374/1792 [00:50<00:14, 28.47it/s]"
     ]
    },
    {
     "name": "stdout",
     "output_type": "stream",
     "text": [
      "Processing Row,  1370\n",
      "Processing Row,  1371\n",
      "Processing Row,  1372\n",
      "Processing Row,  1373\n",
      "Processing Row,  1374\n",
      "Processing Row,  1375\n"
     ]
    },
    {
     "name": "stderr",
     "output_type": "stream",
     "text": [
      " 77%|███████▋  | 1380/1792 [00:50<00:14, 28.29it/s]"
     ]
    },
    {
     "name": "stdout",
     "output_type": "stream",
     "text": [
      "Processing Row,  1376\n",
      "Processing Row,  1377\n",
      "Processing Row,  1378\n",
      "Processing Row,  1379\n",
      "Processing Row,  1380\n",
      "Processing Row,  1381\n"
     ]
    },
    {
     "name": "stderr",
     "output_type": "stream",
     "text": [
      " 77%|███████▋  | 1386/1792 [00:50<00:14, 28.29it/s]"
     ]
    },
    {
     "name": "stdout",
     "output_type": "stream",
     "text": [
      "Processing Row,  1382\n",
      "Processing Row,  1383\n",
      "Processing Row,  1384\n",
      "Processing Row,  1385\n",
      "Processing Row,  1386\n",
      "Processing Row,  1387\n"
     ]
    },
    {
     "name": "stderr",
     "output_type": "stream",
     "text": [
      " 78%|███████▊  | 1392/1792 [00:51<00:14, 28.16it/s]"
     ]
    },
    {
     "name": "stdout",
     "output_type": "stream",
     "text": [
      "Processing Row,  1388\n",
      "Processing Row,  1389\n",
      "Processing Row,  1390\n",
      "Processing Row,  1391\n",
      "Processing Row,  1392\n",
      "Processing Row,  1393\n"
     ]
    },
    {
     "name": "stderr",
     "output_type": "stream",
     "text": [
      " 78%|███████▊  | 1398/1792 [00:51<00:14, 27.23it/s]"
     ]
    },
    {
     "name": "stdout",
     "output_type": "stream",
     "text": [
      "Processing Row,  1394\n",
      "Processing Row,  1395\n",
      "Processing Row,  1396\n",
      "Processing Row,  1397\n",
      "Processing Row,  1398\n",
      "Processing Row,  1399\n"
     ]
    },
    {
     "name": "stderr",
     "output_type": "stream",
     "text": [
      " 78%|███████▊  | 1404/1792 [00:51<00:14, 27.08it/s]"
     ]
    },
    {
     "name": "stdout",
     "output_type": "stream",
     "text": [
      "Processing Row,  1400\n",
      "Processing Row,  1401\n",
      "Processing Row,  1402\n",
      "Processing Row,  1403\n",
      "Processing Row,  1404\n",
      "Processing Row,  1405\n"
     ]
    },
    {
     "name": "stderr",
     "output_type": "stream",
     "text": [
      " 79%|███████▊  | 1410/1792 [00:51<00:13, 27.35it/s]"
     ]
    },
    {
     "name": "stdout",
     "output_type": "stream",
     "text": [
      "Processing Row,  1406\n",
      "Processing Row,  1407\n",
      "Processing Row,  1408\n",
      "Processing Row,  1409\n",
      "Processing Row,  1410\n",
      "Processing Row,  1411\n"
     ]
    },
    {
     "name": "stderr",
     "output_type": "stream",
     "text": [
      " 79%|███████▉  | 1416/1792 [00:51<00:13, 27.82it/s]"
     ]
    },
    {
     "name": "stdout",
     "output_type": "stream",
     "text": [
      "Processing Row,  1412\n",
      "Processing Row,  1413\n",
      "Processing Row,  1414\n",
      "Processing Row,  1415\n",
      "Processing Row,  1416\n",
      "Processing Row,  1417\n"
     ]
    },
    {
     "name": "stderr",
     "output_type": "stream",
     "text": [
      " 79%|███████▉  | 1422/1792 [00:52<00:13, 27.37it/s]"
     ]
    },
    {
     "name": "stdout",
     "output_type": "stream",
     "text": [
      "Processing Row,  1418\n",
      "Processing Row,  1419\n",
      "Processing Row,  1420\n",
      "Processing Row,  1421\n",
      "Processing Row,  1422\n",
      "Processing Row,  1423\n"
     ]
    },
    {
     "name": "stderr",
     "output_type": "stream",
     "text": [
      " 80%|███████▉  | 1428/1792 [00:52<00:13, 26.30it/s]"
     ]
    },
    {
     "name": "stdout",
     "output_type": "stream",
     "text": [
      "Processing Row,  1424\n",
      "Processing Row,  1425\n",
      "Processing Row,  1426\n",
      "Processing Row,  1427\n",
      "Processing Row,  1428\n",
      "Processing Row,  1429\n"
     ]
    },
    {
     "name": "stderr",
     "output_type": "stream",
     "text": [
      " 80%|████████  | 1434/1792 [00:52<00:13, 27.26it/s]"
     ]
    },
    {
     "name": "stdout",
     "output_type": "stream",
     "text": [
      "Processing Row,  1430\n",
      "Processing Row,  1431\n",
      "Processing Row,  1432\n",
      "Processing Row,  1433\n",
      "Processing Row,  1434\n",
      "Processing Row,  1435\n"
     ]
    },
    {
     "name": "stderr",
     "output_type": "stream",
     "text": [
      " 80%|████████  | 1440/1792 [00:52<00:12, 27.18it/s]"
     ]
    },
    {
     "name": "stdout",
     "output_type": "stream",
     "text": [
      "Processing Row,  1436\n",
      "Processing Row,  1437\n",
      "Processing Row,  1438\n",
      "Processing Row,  1439\n",
      "Processing Row,  1440\n",
      "Processing Row,  1441\n"
     ]
    },
    {
     "name": "stderr",
     "output_type": "stream",
     "text": [
      " 81%|████████  | 1446/1792 [00:53<00:12, 27.70it/s]"
     ]
    },
    {
     "name": "stdout",
     "output_type": "stream",
     "text": [
      "Processing Row,  1442\n",
      "Processing Row,  1443\n",
      "Processing Row,  1444\n",
      "Processing Row,  1445\n",
      "Processing Row,  1446\n",
      "Processing Row,  1447\n"
     ]
    },
    {
     "name": "stderr",
     "output_type": "stream",
     "text": [
      " 81%|████████  | 1452/1792 [00:53<00:12, 28.03it/s]"
     ]
    },
    {
     "name": "stdout",
     "output_type": "stream",
     "text": [
      "Processing Row,  1448\n",
      "Processing Row,  1449\n",
      "Processing Row,  1450\n",
      "Processing Row,  1451\n",
      "Processing Row,  1452\n",
      "Processing Row,  1453\n"
     ]
    },
    {
     "name": "stderr",
     "output_type": "stream",
     "text": [
      " 81%|████████▏ | 1458/1792 [00:53<00:11, 28.05it/s]"
     ]
    },
    {
     "name": "stdout",
     "output_type": "stream",
     "text": [
      "Processing Row,  1454\n",
      "Processing Row,  1455\n",
      "Processing Row,  1456\n",
      "Processing Row,  1457\n",
      "Processing Row,  1458\n",
      "Processing Row,  1459\n"
     ]
    },
    {
     "name": "stderr",
     "output_type": "stream",
     "text": [
      " 82%|████████▏ | 1464/1792 [00:53<00:11, 27.61it/s]"
     ]
    },
    {
     "name": "stdout",
     "output_type": "stream",
     "text": [
      "Processing Row,  1460\n",
      "Processing Row,  1461\n",
      "Processing Row,  1462\n",
      "Processing Row,  1463\n",
      "Processing Row,  1464\n",
      "Processing Row,  1465\n"
     ]
    },
    {
     "name": "stderr",
     "output_type": "stream",
     "text": [
      "\r",
      " 82%|████████▏ | 1467/1792 [00:53<00:11, 27.39it/s]"
     ]
    },
    {
     "name": "stdout",
     "output_type": "stream",
     "text": [
      "Processing Row,  1466\n",
      "Processing Row,  1467\n",
      "Processing Row,  1468\n",
      "Processing Row,  1469\n",
      "Processing Row,  1470\n"
     ]
    },
    {
     "name": "stderr",
     "output_type": "stream",
     "text": [
      " 82%|████████▏ | 1473/1792 [00:54<00:12, 26.20it/s]"
     ]
    },
    {
     "name": "stdout",
     "output_type": "stream",
     "text": [
      "Processing Row,  1471\n",
      "Processing Row,  1472\n",
      "Processing Row,  1473\n",
      "Processing Row,  1474\n",
      "Processing Row,  1475\n",
      "Processing Row,  1476\n"
     ]
    },
    {
     "name": "stderr",
     "output_type": "stream",
     "text": [
      " 83%|████████▎ | 1479/1792 [00:54<00:11, 27.18it/s]"
     ]
    },
    {
     "name": "stdout",
     "output_type": "stream",
     "text": [
      "Processing Row,  1477\n",
      "Processing Row,  1478\n",
      "Processing Row,  1479\n",
      "Processing Row,  1480\n",
      "Processing Row,  1481\n",
      "Processing Row,  1482\n"
     ]
    },
    {
     "name": "stderr",
     "output_type": "stream",
     "text": [
      " 83%|████████▎ | 1485/1792 [00:54<00:11, 26.98it/s]"
     ]
    },
    {
     "name": "stdout",
     "output_type": "stream",
     "text": [
      "Processing Row,  1483\n",
      "Processing Row,  1484\n",
      "Processing Row,  1485\n",
      "Processing Row,  1486\n",
      "Processing Row,  1487\n",
      "Processing Row,  1488\n"
     ]
    },
    {
     "name": "stderr",
     "output_type": "stream",
     "text": [
      " 83%|████████▎ | 1491/1792 [00:54<00:11, 26.57it/s]"
     ]
    },
    {
     "name": "stdout",
     "output_type": "stream",
     "text": [
      "Processing Row,  1489\n",
      "Processing Row,  1490\n",
      "Processing Row,  1491\n",
      "Processing Row,  1492\n",
      "Processing Row,  1493\n",
      "Processing Row,  1494\n"
     ]
    },
    {
     "name": "stderr",
     "output_type": "stream",
     "text": [
      " 84%|████████▎ | 1497/1792 [00:54<00:11, 26.43it/s]"
     ]
    },
    {
     "name": "stdout",
     "output_type": "stream",
     "text": [
      "Processing Row,  1495\n",
      "Processing Row,  1496\n",
      "Processing Row,  1497\n",
      "Processing Row,  1498\n",
      "Processing Row,  1499\n",
      "Processing Row,  1500\n"
     ]
    },
    {
     "name": "stderr",
     "output_type": "stream",
     "text": [
      " 84%|████████▍ | 1503/1792 [00:55<00:10, 27.25it/s]"
     ]
    },
    {
     "name": "stdout",
     "output_type": "stream",
     "text": [
      "Processing Row,  1501\n",
      "Processing Row,  1502\n",
      "Processing Row,  1503\n",
      "Processing Row,  1504\n",
      "Processing Row,  1505\n",
      "Processing Row,  1506\n"
     ]
    },
    {
     "name": "stderr",
     "output_type": "stream",
     "text": [
      " 84%|████████▍ | 1509/1792 [00:55<00:10, 27.08it/s]"
     ]
    },
    {
     "name": "stdout",
     "output_type": "stream",
     "text": [
      "Processing Row,  1507\n",
      "Processing Row,  1508\n",
      "Processing Row,  1509\n",
      "Processing Row,  1510\n",
      "Processing Row,  1511\n",
      "Processing Row,  1512\n"
     ]
    },
    {
     "name": "stderr",
     "output_type": "stream",
     "text": [
      " 85%|████████▍ | 1515/1792 [00:55<00:10, 26.13it/s]"
     ]
    },
    {
     "name": "stdout",
     "output_type": "stream",
     "text": [
      "Processing Row,  1513\n",
      "Processing Row,  1514\n",
      "Processing Row,  1515\n",
      "Processing Row,  1516\n",
      "Processing Row,  1517\n",
      "Processing Row,  1518\n"
     ]
    },
    {
     "name": "stderr",
     "output_type": "stream",
     "text": [
      " 85%|████████▍ | 1521/1792 [00:55<00:10, 27.09it/s]"
     ]
    },
    {
     "name": "stdout",
     "output_type": "stream",
     "text": [
      "Processing Row,  1519\n",
      "Processing Row,  1520\n",
      "Processing Row,  1521\n",
      "Processing Row,  1522\n",
      "Processing Row,  1523\n",
      "Processing Row,  1524\n"
     ]
    },
    {
     "name": "stderr",
     "output_type": "stream",
     "text": [
      " 85%|████████▌ | 1527/1792 [00:56<00:09, 27.27it/s]"
     ]
    },
    {
     "name": "stdout",
     "output_type": "stream",
     "text": [
      "Processing Row,  1525\n",
      "Processing Row,  1526\n",
      "Processing Row,  1527\n",
      "Processing Row,  1528\n",
      "Processing Row,  1529\n",
      "Processing Row,  1530\n"
     ]
    },
    {
     "name": "stderr",
     "output_type": "stream",
     "text": [
      " 86%|████████▌ | 1533/1792 [00:56<00:09, 27.33it/s]"
     ]
    },
    {
     "name": "stdout",
     "output_type": "stream",
     "text": [
      "Processing Row,  1531\n",
      "Processing Row,  1532\n",
      "Processing Row,  1533\n",
      "Processing Row,  1534\n",
      "Processing Row,  1535\n",
      "Processing Row,  1536\n"
     ]
    },
    {
     "name": "stderr",
     "output_type": "stream",
     "text": [
      " 86%|████████▌ | 1539/1792 [00:56<00:09, 27.68it/s]"
     ]
    },
    {
     "name": "stdout",
     "output_type": "stream",
     "text": [
      "Processing Row,  1537\n",
      "Processing Row,  1538\n",
      "Processing Row,  1539\n",
      "Processing Row,  1540\n",
      "Processing Row,  1541\n",
      "Processing Row,  1542\n"
     ]
    },
    {
     "name": "stderr",
     "output_type": "stream",
     "text": [
      " 86%|████████▌ | 1545/1792 [00:56<00:09, 27.27it/s]"
     ]
    },
    {
     "name": "stdout",
     "output_type": "stream",
     "text": [
      "Processing Row,  1543\n",
      "Processing Row,  1544\n",
      "Processing Row,  1545\n",
      "Processing Row,  1546\n",
      "Processing Row,  1547\n",
      "Processing Row,  1548\n"
     ]
    },
    {
     "name": "stderr",
     "output_type": "stream",
     "text": [
      " 87%|████████▋ | 1551/1792 [00:56<00:08, 27.59it/s]"
     ]
    },
    {
     "name": "stdout",
     "output_type": "stream",
     "text": [
      "Processing Row,  1549\n",
      "Processing Row,  1550\n",
      "Processing Row,  1551\n",
      "Processing Row,  1552\n",
      "Processing Row,  1553\n",
      "Processing Row,  1554\n"
     ]
    },
    {
     "name": "stderr",
     "output_type": "stream",
     "text": [
      " 87%|████████▋ | 1557/1792 [00:57<00:08, 27.79it/s]"
     ]
    },
    {
     "name": "stdout",
     "output_type": "stream",
     "text": [
      "Processing Row,  1555\n",
      "Processing Row,  1556\n",
      "Processing Row,  1557\n",
      "Processing Row,  1558\n",
      "Processing Row,  1559\n",
      "Processing Row,  1560\n"
     ]
    },
    {
     "name": "stderr",
     "output_type": "stream",
     "text": [
      " 87%|████████▋ | 1563/1792 [00:57<00:08, 27.46it/s]"
     ]
    },
    {
     "name": "stdout",
     "output_type": "stream",
     "text": [
      "Processing Row,  1561\n",
      "Processing Row,  1562\n",
      "Processing Row,  1563\n",
      "Processing Row,  1564\n",
      "Processing Row,  1565\n",
      "Processing Row,  1566\n"
     ]
    },
    {
     "name": "stderr",
     "output_type": "stream",
     "text": [
      " 88%|████████▊ | 1569/1792 [00:57<00:08, 27.26it/s]"
     ]
    },
    {
     "name": "stdout",
     "output_type": "stream",
     "text": [
      "Processing Row,  1567\n",
      "Processing Row,  1568\n",
      "Processing Row,  1569\n",
      "Processing Row,  1570\n",
      "Processing Row,  1571\n",
      "Processing Row,  1572\n"
     ]
    },
    {
     "name": "stderr",
     "output_type": "stream",
     "text": [
      " 88%|████████▊ | 1575/1792 [00:57<00:07, 27.62it/s]"
     ]
    },
    {
     "name": "stdout",
     "output_type": "stream",
     "text": [
      "Processing Row,  1573\n",
      "Processing Row,  1574\n",
      "Processing Row,  1575\n",
      "Processing Row,  1576\n",
      "Processing Row,  1577\n",
      "Processing Row,  1578\n"
     ]
    },
    {
     "name": "stderr",
     "output_type": "stream",
     "text": [
      " 88%|████████▊ | 1581/1792 [00:57<00:07, 27.58it/s]"
     ]
    },
    {
     "name": "stdout",
     "output_type": "stream",
     "text": [
      "Processing Row,  1579\n",
      "Processing Row,  1580\n",
      "Processing Row,  1581\n",
      "Processing Row,  1582\n",
      "Processing Row,  1583\n",
      "Processing Row,  1584\n"
     ]
    },
    {
     "name": "stderr",
     "output_type": "stream",
     "text": [
      " 89%|████████▊ | 1587/1792 [00:58<00:08, 23.92it/s]"
     ]
    },
    {
     "name": "stdout",
     "output_type": "stream",
     "text": [
      "Processing Row,  1585\n",
      "Processing Row,  1586\n",
      "Processing Row,  1587\n",
      "Processing Row,  1588\n",
      "Processing Row,  1589\n"
     ]
    },
    {
     "name": "stderr",
     "output_type": "stream",
     "text": [
      " 89%|████████▉ | 1593/1792 [00:58<00:07, 25.75it/s]"
     ]
    },
    {
     "name": "stdout",
     "output_type": "stream",
     "text": [
      "Processing Row,  1590\n",
      "Processing Row,  1591\n",
      "Processing Row,  1592\n",
      "Processing Row,  1593\n",
      "Processing Row,  1594\n",
      "Processing Row,  1595\n"
     ]
    },
    {
     "name": "stderr",
     "output_type": "stream",
     "text": [
      " 89%|████████▉ | 1599/1792 [00:58<00:07, 26.57it/s]"
     ]
    },
    {
     "name": "stdout",
     "output_type": "stream",
     "text": [
      "Processing Row,  1596\n",
      "Processing Row,  1597\n",
      "Processing Row,  1598\n",
      "Processing Row,  1599\n",
      "Processing Row,  1600\n",
      "Processing Row,  1601\n"
     ]
    },
    {
     "name": "stderr",
     "output_type": "stream",
     "text": [
      " 90%|████████▉ | 1605/1792 [00:58<00:07, 26.25it/s]"
     ]
    },
    {
     "name": "stdout",
     "output_type": "stream",
     "text": [
      "Processing Row,  1602\n",
      "Processing Row,  1603\n",
      "Processing Row,  1604\n",
      "Processing Row,  1605\n",
      "Processing Row,  1606\n",
      "Processing Row,  1607\n"
     ]
    },
    {
     "name": "stderr",
     "output_type": "stream",
     "text": [
      " 90%|████████▉ | 1611/1792 [00:59<00:06, 27.15it/s]"
     ]
    },
    {
     "name": "stdout",
     "output_type": "stream",
     "text": [
      "Processing Row,  1608\n",
      "Processing Row,  1609\n",
      "Processing Row,  1610\n",
      "Processing Row,  1611\n",
      "Processing Row,  1612\n",
      "Processing Row,  1613\n"
     ]
    },
    {
     "name": "stderr",
     "output_type": "stream",
     "text": [
      " 90%|█████████ | 1617/1792 [00:59<00:06, 27.16it/s]"
     ]
    },
    {
     "name": "stdout",
     "output_type": "stream",
     "text": [
      "Processing Row,  1614\n",
      "Processing Row,  1615\n",
      "Processing Row,  1616\n",
      "Processing Row,  1617\n",
      "Processing Row,  1618\n",
      "Processing Row,  1619\n"
     ]
    },
    {
     "name": "stderr",
     "output_type": "stream",
     "text": [
      " 91%|█████████ | 1623/1792 [00:59<00:06, 27.41it/s]"
     ]
    },
    {
     "name": "stdout",
     "output_type": "stream",
     "text": [
      "Processing Row,  1620\n",
      "Processing Row,  1621\n",
      "Processing Row,  1622\n",
      "Processing Row,  1623\n",
      "Processing Row,  1624\n",
      "Processing Row,  1625\n"
     ]
    },
    {
     "name": "stderr",
     "output_type": "stream",
     "text": [
      " 91%|█████████ | 1629/1792 [00:59<00:05, 27.18it/s]"
     ]
    },
    {
     "name": "stdout",
     "output_type": "stream",
     "text": [
      "Processing Row,  1626\n",
      "Processing Row,  1627\n",
      "Processing Row,  1628\n",
      "Processing Row,  1629\n",
      "Processing Row,  1630\n",
      "Processing Row,  1631\n"
     ]
    },
    {
     "name": "stderr",
     "output_type": "stream",
     "text": [
      " 91%|█████████ | 1635/1792 [01:00<00:05, 27.59it/s]"
     ]
    },
    {
     "name": "stdout",
     "output_type": "stream",
     "text": [
      "Processing Row,  1632\n",
      "Processing Row,  1633\n",
      "Processing Row,  1634\n",
      "Processing Row,  1635\n",
      "Processing Row,  1636\n",
      "Processing Row,  1637\n"
     ]
    },
    {
     "name": "stderr",
     "output_type": "stream",
     "text": [
      " 92%|█████████▏| 1641/1792 [01:00<00:05, 27.75it/s]"
     ]
    },
    {
     "name": "stdout",
     "output_type": "stream",
     "text": [
      "Processing Row,  1638\n",
      "Processing Row,  1639\n",
      "Processing Row,  1640\n",
      "Processing Row,  1641\n",
      "Processing Row,  1642\n",
      "Processing Row,  1643\n"
     ]
    },
    {
     "name": "stderr",
     "output_type": "stream",
     "text": [
      " 92%|█████████▏| 1647/1792 [01:00<00:05, 26.99it/s]"
     ]
    },
    {
     "name": "stdout",
     "output_type": "stream",
     "text": [
      "Processing Row,  1644\n",
      "Processing Row,  1645\n",
      "Processing Row,  1646\n",
      "Processing Row,  1647\n",
      "Processing Row,  1648\n",
      "Processing Row,  1649\n"
     ]
    },
    {
     "name": "stderr",
     "output_type": "stream",
     "text": [
      " 92%|█████████▏| 1653/1792 [01:00<00:05, 27.16it/s]"
     ]
    },
    {
     "name": "stdout",
     "output_type": "stream",
     "text": [
      "Processing Row,  1650\n",
      "Processing Row,  1651\n",
      "Processing Row,  1652\n",
      "Processing Row,  1653\n",
      "Processing Row,  1654\n",
      "Processing Row,  1655\n"
     ]
    },
    {
     "name": "stderr",
     "output_type": "stream",
     "text": [
      " 93%|█████████▎| 1659/1792 [01:00<00:04, 27.15it/s]"
     ]
    },
    {
     "name": "stdout",
     "output_type": "stream",
     "text": [
      "Processing Row,  1656\n",
      "Processing Row,  1657\n",
      "Processing Row,  1658\n",
      "Processing Row,  1659\n",
      "Processing Row,  1660\n",
      "Processing Row,  1661\n"
     ]
    },
    {
     "name": "stderr",
     "output_type": "stream",
     "text": [
      " 93%|█████████▎| 1665/1792 [01:01<00:04, 27.53it/s]"
     ]
    },
    {
     "name": "stdout",
     "output_type": "stream",
     "text": [
      "Processing Row,  1662\n",
      "Processing Row,  1663\n",
      "Processing Row,  1664\n",
      "Processing Row,  1665\n",
      "Processing Row,  1666\n",
      "Processing Row,  1667\n"
     ]
    },
    {
     "name": "stderr",
     "output_type": "stream",
     "text": [
      " 93%|█████████▎| 1671/1792 [01:01<00:04, 27.74it/s]"
     ]
    },
    {
     "name": "stdout",
     "output_type": "stream",
     "text": [
      "Processing Row,  1668\n",
      "Processing Row,  1669\n",
      "Processing Row,  1670\n",
      "Processing Row,  1671\n",
      "Processing Row,  1672\n",
      "Processing Row,  1673\n"
     ]
    },
    {
     "name": "stderr",
     "output_type": "stream",
     "text": [
      " 94%|█████████▎| 1677/1792 [01:01<00:04, 27.69it/s]"
     ]
    },
    {
     "name": "stdout",
     "output_type": "stream",
     "text": [
      "Processing Row,  1674\n",
      "Processing Row,  1675\n",
      "Processing Row,  1676\n",
      "Processing Row,  1677\n",
      "Processing Row,  1678\n",
      "Processing Row,  1679\n"
     ]
    },
    {
     "name": "stderr",
     "output_type": "stream",
     "text": [
      " 94%|█████████▍| 1683/1792 [01:01<00:03, 27.35it/s]"
     ]
    },
    {
     "name": "stdout",
     "output_type": "stream",
     "text": [
      "Processing Row,  1680\n",
      "Processing Row,  1681\n",
      "Processing Row,  1682\n",
      "Processing Row,  1683\n",
      "Processing Row,  1684\n",
      "Processing Row,  1685\n"
     ]
    },
    {
     "name": "stderr",
     "output_type": "stream",
     "text": [
      " 94%|█████████▍| 1689/1792 [01:02<00:04, 25.31it/s]"
     ]
    },
    {
     "name": "stdout",
     "output_type": "stream",
     "text": [
      "Processing Row,  1686\n",
      "Processing Row,  1687\n",
      "Processing Row,  1688\n",
      "Processing Row,  1689\n",
      "Processing Row,  1690\n"
     ]
    },
    {
     "name": "stderr",
     "output_type": "stream",
     "text": [
      " 95%|█████████▍| 1695/1792 [01:02<00:03, 25.35it/s]"
     ]
    },
    {
     "name": "stdout",
     "output_type": "stream",
     "text": [
      "Processing Row,  1691\n",
      "Processing Row,  1692\n",
      "Processing Row,  1693\n",
      "Processing Row,  1694\n",
      "Processing Row,  1695\n",
      "Processing Row,  1696\n"
     ]
    },
    {
     "name": "stderr",
     "output_type": "stream",
     "text": [
      " 95%|█████████▍| 1701/1792 [01:02<00:03, 26.72it/s]"
     ]
    },
    {
     "name": "stdout",
     "output_type": "stream",
     "text": [
      "Processing Row,  1697\n",
      "Processing Row,  1698\n",
      "Processing Row,  1699\n",
      "Processing Row,  1700\n",
      "Processing Row,  1701\n",
      "Processing Row,  1702\n"
     ]
    },
    {
     "name": "stderr",
     "output_type": "stream",
     "text": [
      " 95%|█████████▌| 1707/1792 [01:02<00:03, 26.10it/s]"
     ]
    },
    {
     "name": "stdout",
     "output_type": "stream",
     "text": [
      "Processing Row,  1703\n",
      "Processing Row,  1704\n",
      "Processing Row,  1705\n",
      "Processing Row,  1706\n",
      "Processing Row,  1707\n",
      "Processing Row,  1708\n"
     ]
    },
    {
     "name": "stderr",
     "output_type": "stream",
     "text": [
      " 96%|█████████▌| 1713/1792 [01:02<00:03, 26.12it/s]"
     ]
    },
    {
     "name": "stdout",
     "output_type": "stream",
     "text": [
      "Processing Row,  1709\n",
      "Processing Row,  1710\n",
      "Processing Row,  1711\n",
      "Processing Row,  1712\n",
      "Processing Row,  1713\n",
      "Processing Row,  1714\n"
     ]
    },
    {
     "name": "stderr",
     "output_type": "stream",
     "text": [
      " 96%|█████████▌| 1719/1792 [01:03<00:02, 25.51it/s]"
     ]
    },
    {
     "name": "stdout",
     "output_type": "stream",
     "text": [
      "Processing Row,  1715\n",
      "Processing Row,  1716\n",
      "Processing Row,  1717\n",
      "Processing Row,  1718\n",
      "Processing Row,  1719\n",
      "Processing Row,  1720\n"
     ]
    },
    {
     "name": "stderr",
     "output_type": "stream",
     "text": [
      " 96%|█████████▋| 1725/1792 [01:03<00:02, 25.87it/s]"
     ]
    },
    {
     "name": "stdout",
     "output_type": "stream",
     "text": [
      "Processing Row,  1721\n",
      "Processing Row,  1722\n",
      "Processing Row,  1723\n",
      "Processing Row,  1724\n",
      "Processing Row,  1725\n",
      "Processing Row,  1726\n"
     ]
    },
    {
     "name": "stderr",
     "output_type": "stream",
     "text": [
      " 97%|█████████▋| 1731/1792 [01:03<00:02, 25.92it/s]"
     ]
    },
    {
     "name": "stdout",
     "output_type": "stream",
     "text": [
      "Processing Row,  1727\n",
      "Processing Row,  1728\n",
      "Processing Row,  1729\n",
      "Processing Row,  1730\n",
      "Processing Row,  1731\n",
      "Processing Row,  1732\n"
     ]
    },
    {
     "name": "stderr",
     "output_type": "stream",
     "text": [
      " 97%|█████████▋| 1737/1792 [01:03<00:02, 25.62it/s]"
     ]
    },
    {
     "name": "stdout",
     "output_type": "stream",
     "text": [
      "Processing Row,  1733\n",
      "Processing Row,  1734\n",
      "Processing Row,  1735\n",
      "Processing Row,  1736\n",
      "Processing Row,  1737\n",
      "Processing Row,  1738\n"
     ]
    },
    {
     "name": "stderr",
     "output_type": "stream",
     "text": [
      " 97%|█████████▋| 1743/1792 [01:04<00:01, 26.14it/s]"
     ]
    },
    {
     "name": "stdout",
     "output_type": "stream",
     "text": [
      "Processing Row,  1739\n",
      "Processing Row,  1740\n",
      "Processing Row,  1741\n",
      "Processing Row,  1742\n",
      "Processing Row,  1743\n",
      "Processing Row,  1744\n"
     ]
    },
    {
     "name": "stderr",
     "output_type": "stream",
     "text": [
      " 98%|█████████▊| 1749/1792 [01:04<00:01, 26.25it/s]"
     ]
    },
    {
     "name": "stdout",
     "output_type": "stream",
     "text": [
      "Processing Row,  1745\n",
      "Processing Row,  1746\n",
      "Processing Row,  1747\n",
      "Processing Row,  1748\n",
      "Processing Row,  1749\n",
      "Processing Row,  1750\n"
     ]
    },
    {
     "name": "stderr",
     "output_type": "stream",
     "text": [
      "\r",
      " 98%|█████████▊| 1752/1792 [01:04<00:01, 26.08it/s]"
     ]
    },
    {
     "name": "stdout",
     "output_type": "stream",
     "text": [
      "Processing Row,  1751\n",
      "Processing Row,  1752\n",
      "Processing Row,  1753\n",
      "Processing Row,  1754\n",
      "Processing Row,  1755\n"
     ]
    },
    {
     "name": "stderr",
     "output_type": "stream",
     "text": [
      " 98%|█████████▊| 1758/1792 [01:04<00:01, 22.97it/s]"
     ]
    },
    {
     "name": "stdout",
     "output_type": "stream",
     "text": [
      "Processing Row,  1756\n",
      "Processing Row,  1757\n",
      "Processing Row,  1758\n",
      "Processing Row,  1759\n",
      "Processing Row,  1760\n"
     ]
    },
    {
     "name": "stderr",
     "output_type": "stream",
     "text": [
      " 98%|█████████▊| 1764/1792 [01:04<00:01, 24.48it/s]"
     ]
    },
    {
     "name": "stdout",
     "output_type": "stream",
     "text": [
      "Processing Row,  1761\n",
      "Processing Row,  1762\n",
      "Processing Row,  1763\n",
      "Processing Row,  1764\n",
      "Processing Row,  1765\n",
      "Processing Row,  1766\n"
     ]
    },
    {
     "name": "stderr",
     "output_type": "stream",
     "text": [
      " 99%|█████████▉| 1770/1792 [01:05<00:00, 24.85it/s]"
     ]
    },
    {
     "name": "stdout",
     "output_type": "stream",
     "text": [
      "Processing Row,  1767\n",
      "Processing Row,  1768\n",
      "Processing Row,  1769\n",
      "Processing Row,  1770\n",
      "Processing Row,  1771\n",
      "Processing Row,  1772\n"
     ]
    },
    {
     "name": "stderr",
     "output_type": "stream",
     "text": [
      " 99%|█████████▉| 1776/1792 [01:05<00:00, 25.37it/s]"
     ]
    },
    {
     "name": "stdout",
     "output_type": "stream",
     "text": [
      "Processing Row,  1773\n",
      "Processing Row,  1774\n",
      "Processing Row,  1775\n",
      "Processing Row,  1776\n",
      "Processing Row,  1777\n",
      "Processing Row,  1778\n"
     ]
    },
    {
     "name": "stderr",
     "output_type": "stream",
     "text": [
      " 99%|█████████▉| 1782/1792 [01:05<00:00, 23.89it/s]"
     ]
    },
    {
     "name": "stdout",
     "output_type": "stream",
     "text": [
      "Processing Row,  1779\n",
      "Processing Row,  1780\n",
      "Processing Row,  1781\n",
      "Processing Row,  1782\n",
      "Processing Row,  1783\n"
     ]
    },
    {
     "name": "stderr",
     "output_type": "stream",
     "text": [
      "100%|█████████▉| 1788/1792 [01:05<00:00, 25.00it/s]"
     ]
    },
    {
     "name": "stdout",
     "output_type": "stream",
     "text": [
      "Processing Row,  1784\n",
      "Processing Row,  1785\n",
      "Processing Row,  1786\n",
      "Processing Row,  1787\n",
      "Processing Row,  1788\n",
      "Processing Row,  1789\n"
     ]
    },
    {
     "name": "stderr",
     "output_type": "stream",
     "text": [
      "100%|██████████| 1792/1792 [01:06<00:00, 27.12it/s]\n"
     ]
    },
    {
     "name": "stdout",
     "output_type": "stream",
     "text": [
      "Processing Row,  1790\n",
      "Processing Row,  1791\n",
      "Processing Row,  1792\n",
      "ACCESSING TOTAL,  1792  ROWS, took:  66.11  seconds\n"
     ]
    }
   ],
   "source": [
    "\n",
    "driver = webdriver.Chrome(\"/usr/local/bin/chromedriver\")\n",
    "\n",
    "t_url_1 = time.time()\n",
    "\n",
    "driver.get(url)\n",
    "# Consent when opens\n",
    "time.sleep(5)\n",
    "\n",
    "t_url_2 = time.time()\n",
    "\n",
    "print('URL ACCESS, took: ', str(round((t_url_2 - t_url_1),2)), ' seconds')\n",
    "\n",
    "item = driver.find_element(By.XPATH, '/html/body/div[1]/article/table/tbody')\n",
    "\n",
    "rows = item.find_elements(By.TAG_NAME, \"tr\")\n",
    "\n",
    "t_table = time.time()\n",
    "\n",
    "print('TABLE ACCESS, took: ', str(round((t_table-t_url_2), 2)), ' seconds')\n",
    "\n",
    "print('Accessing each rows...')\n",
    "\n",
    "count = 0\n",
    "\n",
    "emoji_list = []\n",
    "\n",
    "for row in tqdm(rows):\n",
    "    count += 1\n",
    "    #content = row.text.split()\n",
    "    col_list = row.find_elements(By.TAG_NAME, \"td\")\n",
    "    \n",
    "    if len(col_list) > 0:\n",
    "        print('Processing Row, ', str(count))\n",
    "        ctl = [col.text for col in col_list]\n",
    "        #0-emoji, 1-meaning, 3-decimal\n",
    "        tup = (ctl[0], ctl[1], ctl[3])\n",
    "        \n",
    "        emoji_list.append(tup)\n",
    "        \n",
    "t_col = time.time()\n",
    "\n",
    "print('ACCESSING TOTAL, ', str(count), ' ROWS, took: ', str(round((t_col-t_table), 2)), ' seconds')\n",
    "        \n",
    "driver.quit()"
   ]
  },
  {
   "cell_type": "code",
   "execution_count": 11,
   "id": "baa2d19f",
   "metadata": {},
   "outputs": [
    {
     "data": {
      "text/plain": [
       "1791"
      ]
     },
     "execution_count": 11,
     "metadata": {},
     "output_type": "execute_result"
    }
   ],
   "source": [
    "len(emoji_list)"
   ]
  },
  {
   "cell_type": "code",
   "execution_count": 13,
   "id": "94c63b7c",
   "metadata": {},
   "outputs": [],
   "source": [
    "emoji_df = pd.DataFrame(emoji_list, columns=['emoji','emoji_text', 'emoji_decimal'])"
   ]
  },
  {
   "cell_type": "code",
   "execution_count": 14,
   "id": "1b14bf67",
   "metadata": {},
   "outputs": [
    {
     "data": {
      "text/html": [
       "<div>\n",
       "<style scoped>\n",
       "    .dataframe tbody tr th:only-of-type {\n",
       "        vertical-align: middle;\n",
       "    }\n",
       "\n",
       "    .dataframe tbody tr th {\n",
       "        vertical-align: top;\n",
       "    }\n",
       "\n",
       "    .dataframe thead th {\n",
       "        text-align: right;\n",
       "    }\n",
       "</style>\n",
       "<table border=\"1\" class=\"dataframe\">\n",
       "  <thead>\n",
       "    <tr style=\"text-align: right;\">\n",
       "      <th></th>\n",
       "      <th>emoji</th>\n",
       "      <th>emoji_text</th>\n",
       "      <th>emoji_decimal</th>\n",
       "    </tr>\n",
       "  </thead>\n",
       "  <tbody>\n",
       "    <tr>\n",
       "      <th>0</th>\n",
       "      <td>😀</td>\n",
       "      <td>GRINNING FACE</td>\n",
       "      <td>&amp;#128512;</td>\n",
       "    </tr>\n",
       "    <tr>\n",
       "      <th>1</th>\n",
       "      <td>😁</td>\n",
       "      <td>GRINNING FACE WITH SMILING EYES</td>\n",
       "      <td>&amp;#128513;</td>\n",
       "    </tr>\n",
       "  </tbody>\n",
       "</table>\n",
       "</div>"
      ],
      "text/plain": [
       "  emoji                       emoji_text emoji_decimal\n",
       "0     😀                    GRINNING FACE     &#128512;\n",
       "1     😁  GRINNING FACE WITH SMILING EYES     &#128513;"
      ]
     },
     "execution_count": 14,
     "metadata": {},
     "output_type": "execute_result"
    }
   ],
   "source": [
    "emoji_df.head(2)"
   ]
  },
  {
   "cell_type": "code",
   "execution_count": 17,
   "id": "99815107",
   "metadata": {},
   "outputs": [
    {
     "name": "stdout",
     "output_type": "stream",
     "text": [
      "\u001b[34mWhatsApp-Dataset\u001b[m\u001b[m              merge_raw_translated.ipynb\r\n",
      "\u001b[31mchromedriver\u001b[m\u001b[m                  \u001b[34mpre_process\u001b[m\u001b[m\r\n",
      "convert_raw_to_csvs.ipynb     \u001b[34mraw\u001b[m\u001b[m\r\n",
      "data_whatsapp.json            \u001b[34mtranslated\u001b[m\u001b[m\r\n",
      "get_emoj_transcriptions.ipynb\r\n"
     ]
    }
   ],
   "source": [
    "!ls "
   ]
  },
  {
   "cell_type": "code",
   "execution_count": 19,
   "id": "7fde4bcf",
   "metadata": {},
   "outputs": [],
   "source": [
    "emoji_df.to_csv('pre_process/emoji_info.csv', index=False)"
   ]
  },
  {
   "cell_type": "code",
   "execution_count": null,
   "id": "8287bc25",
   "metadata": {},
   "outputs": [],
   "source": []
  }
 ],
 "metadata": {
  "kernelspec": {
   "display_name": "Python 3",
   "language": "python",
   "name": "python3"
  },
  "language_info": {
   "codemirror_mode": {
    "name": "ipython",
    "version": 3
   },
   "file_extension": ".py",
   "mimetype": "text/x-python",
   "name": "python",
   "nbconvert_exporter": "python",
   "pygments_lexer": "ipython3",
   "version": "3.8.8"
  }
 },
 "nbformat": 4,
 "nbformat_minor": 5
}
